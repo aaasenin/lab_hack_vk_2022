{
 "cells": [
  {
   "cell_type": "code",
   "execution_count": 2,
   "metadata": {},
   "outputs": [],
   "source": [
    "import gc\n",
    "import pandas as pd\n",
    "import numpy as np"
   ]
  },
  {
   "cell_type": "code",
   "execution_count": 3,
   "metadata": {},
   "outputs": [],
   "source": [
    "from sklearn.preprocessing import LabelEncoder"
   ]
  },
  {
   "cell_type": "markdown",
   "metadata": {},
   "source": [
    "**FINAL_TARGETS_DATES_TRAINTEST**"
   ]
  },
  {
   "cell_type": "code",
   "execution_count": 4,
   "metadata": {},
   "outputs": [
    {
     "data": {
      "text/plain": [
       "159290"
      ]
     },
     "execution_count": 4,
     "metadata": {},
     "output_type": "execute_result"
    }
   ],
   "source": [
    "target_df = pd.read_csv(\"ВК/FINAL_TARGETS_DATES_TRAINTEST.tsv\", sep=\"\\t\")\n",
    "target_df.shape[0]"
   ]
  },
  {
   "cell_type": "code",
   "execution_count": 5,
   "metadata": {},
   "outputs": [
    {
     "data": {
      "text/html": [
       "<div>\n",
       "<style scoped>\n",
       "    .dataframe tbody tr th:only-of-type {\n",
       "        vertical-align: middle;\n",
       "    }\n",
       "\n",
       "    .dataframe tbody tr th {\n",
       "        vertical-align: top;\n",
       "    }\n",
       "\n",
       "    .dataframe thead th {\n",
       "        text-align: right;\n",
       "    }\n",
       "</style>\n",
       "<table border=\"1\" class=\"dataframe\">\n",
       "  <thead>\n",
       "    <tr style=\"text-align: right;\">\n",
       "      <th></th>\n",
       "      <th>CLIENT_ID</th>\n",
       "      <th>RETRO_DT</th>\n",
       "      <th>TARGET</th>\n",
       "    </tr>\n",
       "  </thead>\n",
       "  <tbody>\n",
       "    <tr>\n",
       "      <th>0</th>\n",
       "      <td>1011725</td>\n",
       "      <td>20210501</td>\n",
       "      <td>0</td>\n",
       "    </tr>\n",
       "    <tr>\n",
       "      <th>1</th>\n",
       "      <td>1018784</td>\n",
       "      <td>20210501</td>\n",
       "      <td>1</td>\n",
       "    </tr>\n",
       "    <tr>\n",
       "      <th>2</th>\n",
       "      <td>1021812</td>\n",
       "      <td>20210501</td>\n",
       "      <td>0</td>\n",
       "    </tr>\n",
       "    <tr>\n",
       "      <th>3</th>\n",
       "      <td>1024003</td>\n",
       "      <td>20210501</td>\n",
       "      <td>0</td>\n",
       "    </tr>\n",
       "    <tr>\n",
       "      <th>4</th>\n",
       "      <td>1025140</td>\n",
       "      <td>20210501</td>\n",
       "      <td>test</td>\n",
       "    </tr>\n",
       "  </tbody>\n",
       "</table>\n",
       "</div>"
      ],
      "text/plain": [
       "   CLIENT_ID  RETRO_DT TARGET\n",
       "0    1011725  20210501      0\n",
       "1    1018784  20210501      1\n",
       "2    1021812  20210501      0\n",
       "3    1024003  20210501      0\n",
       "4    1025140  20210501   test"
      ]
     },
     "execution_count": 5,
     "metadata": {},
     "output_type": "execute_result"
    }
   ],
   "source": [
    "target_df.head(5)"
   ]
  },
  {
   "cell_type": "code",
   "execution_count": 6,
   "metadata": {},
   "outputs": [
    {
     "data": {
      "text/plain": [
       "0       92491\n",
       "1       34941\n",
       "test    31858\n",
       "Name: TARGET, dtype: int64"
      ]
     },
     "execution_count": 6,
     "metadata": {},
     "output_type": "execute_result"
    }
   ],
   "source": [
    "target_df[\"TARGET\"].value_counts()"
   ]
  },
  {
   "cell_type": "code",
   "execution_count": 7,
   "metadata": {},
   "outputs": [
    {
     "data": {
      "text/plain": [
       "159290"
      ]
     },
     "execution_count": 7,
     "metadata": {},
     "output_type": "execute_result"
    }
   ],
   "source": [
    "target_df[\"CLIENT_ID\"].nunique()"
   ]
  },
  {
   "cell_type": "markdown",
   "metadata": {},
   "source": [
    "**FINAL_ALL_SEQUENCES_TRAINTEST**"
   ]
  },
  {
   "cell_type": "code",
   "execution_count": 8,
   "metadata": {},
   "outputs": [
    {
     "data": {
      "text/plain": [
       "123707"
      ]
     },
     "execution_count": 8,
     "metadata": {},
     "output_type": "execute_result"
    }
   ],
   "source": [
    "seq_df = pd.read_csv(\"ВК/FINAL_ALL_SEQUENCES_TRAINTEST.tsv\", sep=\"\\t\")\n",
    "seq_df.shape[0]"
   ]
  },
  {
   "cell_type": "code",
   "execution_count": 9,
   "metadata": {},
   "outputs": [
    {
     "data": {
      "text/html": [
       "<div>\n",
       "<style scoped>\n",
       "    .dataframe tbody tr th:only-of-type {\n",
       "        vertical-align: middle;\n",
       "    }\n",
       "\n",
       "    .dataframe tbody tr th {\n",
       "        vertical-align: top;\n",
       "    }\n",
       "\n",
       "    .dataframe thead th {\n",
       "        text-align: right;\n",
       "    }\n",
       "</style>\n",
       "<table border=\"1\" class=\"dataframe\">\n",
       "  <thead>\n",
       "    <tr style=\"text-align: right;\">\n",
       "      <th></th>\n",
       "      <th>CLIENT_ID</th>\n",
       "      <th>SEQUENCE</th>\n",
       "    </tr>\n",
       "  </thead>\n",
       "  <tbody>\n",
       "    <tr>\n",
       "      <th>0</th>\n",
       "      <td>1000100</td>\n",
       "      <td>['e84b0f471b8e8f4aecc81eb27b16c092', '9a7670be...</td>\n",
       "    </tr>\n",
       "    <tr>\n",
       "      <th>1</th>\n",
       "      <td>1000121</td>\n",
       "      <td>['9804a8d70c5e8c26830bdafe2c2db49c', '9ca02fb0...</td>\n",
       "    </tr>\n",
       "    <tr>\n",
       "      <th>2</th>\n",
       "      <td>1000131</td>\n",
       "      <td>['b496d19eb25556bd64e481d11b6f7dd6', 'eb727f97...</td>\n",
       "    </tr>\n",
       "    <tr>\n",
       "      <th>3</th>\n",
       "      <td>1000132</td>\n",
       "      <td>['467a38fe36ef666e264823387f66f3c8', 'e0494409...</td>\n",
       "    </tr>\n",
       "    <tr>\n",
       "      <th>4</th>\n",
       "      <td>100013</td>\n",
       "      <td>['b496d19eb25556bd64e481d11b6f7dd6', 'fc18cab3...</td>\n",
       "    </tr>\n",
       "  </tbody>\n",
       "</table>\n",
       "</div>"
      ],
      "text/plain": [
       "   CLIENT_ID                                           SEQUENCE\n",
       "0    1000100  ['e84b0f471b8e8f4aecc81eb27b16c092', '9a7670be...\n",
       "1    1000121  ['9804a8d70c5e8c26830bdafe2c2db49c', '9ca02fb0...\n",
       "2    1000131  ['b496d19eb25556bd64e481d11b6f7dd6', 'eb727f97...\n",
       "3    1000132  ['467a38fe36ef666e264823387f66f3c8', 'e0494409...\n",
       "4     100013  ['b496d19eb25556bd64e481d11b6f7dd6', 'fc18cab3..."
      ]
     },
     "execution_count": 9,
     "metadata": {},
     "output_type": "execute_result"
    }
   ],
   "source": [
    "seq_df.head(5)"
   ]
  },
  {
   "cell_type": "code",
   "execution_count": 10,
   "metadata": {},
   "outputs": [
    {
     "data": {
      "text/plain": [
       "\"['e84b0f471b8e8f4aecc81eb27b16c092', '9a7670be67a118ddd4b30f5cdd3b035e', 'e65bd9b13ec4a97ac7b912f37c3e36d4', 'aeb4b083a0762ecba2222942ab6b7e22', '23114079654c0224e07fe90619744944', 'f150c479778accab9c439eefe6bd22b4', 'eb727f972742f7ff6b07ee761ae5da1b', '41d71f48089e26dcf46e86474f3568b1', 'db67edba557aecc4435c3bdca5c25d5f', '393a7e7006bb3c2470a93c67429b8d2c', '9cb3abf65fd1465b1c8f829a73761f56', 'eb727f972742f7ff6b07ee761ae5da1b', 'd48a3ba9247bc34d3ef617cb5cb9c5e5', 'acb4ac11bd962f9a3e05042e5b1a260a', 'd8d8278d044dee0fdf62f12708b7fb7b', 'eb727f972742f7ff6b07ee761ae5da1b', '468e25839a56ee5706895fcbb8f5aa00', '179a7187f9dbf227e3751608d6796319', 'd107595edd990ec01718897044bf78ba', '123ce1d2bea3cf5e381ef706605b5aaa', 'eb727f972742f7ff6b07ee761ae5da1b', 'aeb4b083a0762ecba2222942ab6b7e22', 'd48a3ba9247bc34d3ef617cb5cb9c5e5', '5b47ea7718d6194ed6049085bd4c747f', 'c82c51bc925071ff17983d79b472c9f8', 'eb727f972742f7ff6b07ee761ae5da1b', '179a7187f9dbf227e3751608d6796319', 'eb727f972742f7ff6b07ee761ae5da1b', '55b02de9badb0873fee3245d88d0d798', '123ce1d2bea3cf5e381ef706605b5aaa', '23114079654c0224e07fe90619744944', 'f143f08e6277cd0ed2c70680c4171de6', 'eb727f972742f7ff6b07ee761ae5da1b', '9efdb3061afc3c2ccf67088e2b30bca5', 'eb727f972742f7ff6b07ee761ae5da1b', 'e26792c1136c8327db984baf56a84a75', 'eb727f972742f7ff6b07ee761ae5da1b', 'e26792c1136c8327db984baf56a84a75', 'eb727f972742f7ff6b07ee761ae5da1b', 'd48a3ba9247bc34d3ef617cb5cb9c5e5', '5fc209998dca06f1618a78b66cd5d827', 'eb727f972742f7ff6b07ee761ae5da1b', '9a7670be67a118ddd4b30f5cdd3b035e', 'e65bd9b13ec4a97ac7b912f37c3e36d4', 'eb727f972742f7ff6b07ee761ae5da1b', '2f082fd4ed36762c9cbbdb08945bd55f', 'c82c51bc925071ff17983d79b472c9f8', 'eb727f972742f7ff6b07ee761ae5da1b', 'd50d5cf3b37b8728bc1033bf5e537e39', 'eb727f972742f7ff6b07ee761ae5da1b', 'd50d5cf3b37b8728bc1033bf5e537e39', 'eb727f972742f7ff6b07ee761ae5da1b', 'd50d5cf3b37b8728bc1033bf5e537e39', 'eb727f972742f7ff6b07ee761ae5da1b', 'd50d5cf3b37b8728bc1033bf5e537e39', 'eb727f972742f7ff6b07ee761ae5da1b', '54af40549feac8c648d573775777c823', 'd50d5cf3b37b8728bc1033bf5e537e39', 'eb727f972742f7ff6b07ee761ae5da1b', 'd50d5cf3b37b8728bc1033bf5e537e39', 'eb727f972742f7ff6b07ee761ae5da1b', 'd50d5cf3b37b8728bc1033bf5e537e39', 'eb727f972742f7ff6b07ee761ae5da1b', 'd50d5cf3b37b8728bc1033bf5e537e39', 'eb727f972742f7ff6b07ee761ae5da1b', 'd50d5cf3b37b8728bc1033bf5e537e39', 'ca431c645b8bbf6de0a2ce1f9856af50', 'd50d5cf3b37b8728bc1033bf5e537e39', 'eb727f972742f7ff6b07ee761ae5da1b', 'd50d5cf3b37b8728bc1033bf5e537e39', '0a0262a3ff2f66dfbc8393f654f04cec']\""
      ]
     },
     "execution_count": 10,
     "metadata": {},
     "output_type": "execute_result"
    }
   ],
   "source": [
    "seq_df.iloc[0][\"SEQUENCE\"]"
   ]
  },
  {
   "cell_type": "code",
   "execution_count": 11,
   "metadata": {},
   "outputs": [
    {
     "data": {
      "text/plain": [
       "0"
      ]
     },
     "execution_count": 11,
     "metadata": {},
     "output_type": "execute_result"
    }
   ],
   "source": [
    "seq_df[\"SEQUENCE\"] = seq_df[\"SEQUENCE\"].apply(eval)\n",
    "gc.collect()"
   ]
  },
  {
   "cell_type": "code",
   "execution_count": 12,
   "metadata": {
    "scrolled": true
   },
   "outputs": [
    {
     "data": {
      "text/plain": [
       "['e84b0f471b8e8f4aecc81eb27b16c092',\n",
       " '9a7670be67a118ddd4b30f5cdd3b035e',\n",
       " 'e65bd9b13ec4a97ac7b912f37c3e36d4',\n",
       " 'aeb4b083a0762ecba2222942ab6b7e22',\n",
       " '23114079654c0224e07fe90619744944',\n",
       " 'f150c479778accab9c439eefe6bd22b4',\n",
       " 'eb727f972742f7ff6b07ee761ae5da1b',\n",
       " '41d71f48089e26dcf46e86474f3568b1',\n",
       " 'db67edba557aecc4435c3bdca5c25d5f',\n",
       " '393a7e7006bb3c2470a93c67429b8d2c',\n",
       " '9cb3abf65fd1465b1c8f829a73761f56',\n",
       " 'eb727f972742f7ff6b07ee761ae5da1b',\n",
       " 'd48a3ba9247bc34d3ef617cb5cb9c5e5',\n",
       " 'acb4ac11bd962f9a3e05042e5b1a260a',\n",
       " 'd8d8278d044dee0fdf62f12708b7fb7b',\n",
       " 'eb727f972742f7ff6b07ee761ae5da1b',\n",
       " '468e25839a56ee5706895fcbb8f5aa00',\n",
       " '179a7187f9dbf227e3751608d6796319',\n",
       " 'd107595edd990ec01718897044bf78ba',\n",
       " '123ce1d2bea3cf5e381ef706605b5aaa',\n",
       " 'eb727f972742f7ff6b07ee761ae5da1b',\n",
       " 'aeb4b083a0762ecba2222942ab6b7e22',\n",
       " 'd48a3ba9247bc34d3ef617cb5cb9c5e5',\n",
       " '5b47ea7718d6194ed6049085bd4c747f',\n",
       " 'c82c51bc925071ff17983d79b472c9f8',\n",
       " 'eb727f972742f7ff6b07ee761ae5da1b',\n",
       " '179a7187f9dbf227e3751608d6796319',\n",
       " 'eb727f972742f7ff6b07ee761ae5da1b',\n",
       " '55b02de9badb0873fee3245d88d0d798',\n",
       " '123ce1d2bea3cf5e381ef706605b5aaa',\n",
       " '23114079654c0224e07fe90619744944',\n",
       " 'f143f08e6277cd0ed2c70680c4171de6',\n",
       " 'eb727f972742f7ff6b07ee761ae5da1b',\n",
       " '9efdb3061afc3c2ccf67088e2b30bca5',\n",
       " 'eb727f972742f7ff6b07ee761ae5da1b',\n",
       " 'e26792c1136c8327db984baf56a84a75',\n",
       " 'eb727f972742f7ff6b07ee761ae5da1b',\n",
       " 'e26792c1136c8327db984baf56a84a75',\n",
       " 'eb727f972742f7ff6b07ee761ae5da1b',\n",
       " 'd48a3ba9247bc34d3ef617cb5cb9c5e5',\n",
       " '5fc209998dca06f1618a78b66cd5d827',\n",
       " 'eb727f972742f7ff6b07ee761ae5da1b',\n",
       " '9a7670be67a118ddd4b30f5cdd3b035e',\n",
       " 'e65bd9b13ec4a97ac7b912f37c3e36d4',\n",
       " 'eb727f972742f7ff6b07ee761ae5da1b',\n",
       " '2f082fd4ed36762c9cbbdb08945bd55f',\n",
       " 'c82c51bc925071ff17983d79b472c9f8',\n",
       " 'eb727f972742f7ff6b07ee761ae5da1b',\n",
       " 'd50d5cf3b37b8728bc1033bf5e537e39',\n",
       " 'eb727f972742f7ff6b07ee761ae5da1b',\n",
       " 'd50d5cf3b37b8728bc1033bf5e537e39',\n",
       " 'eb727f972742f7ff6b07ee761ae5da1b',\n",
       " 'd50d5cf3b37b8728bc1033bf5e537e39',\n",
       " 'eb727f972742f7ff6b07ee761ae5da1b',\n",
       " 'd50d5cf3b37b8728bc1033bf5e537e39',\n",
       " 'eb727f972742f7ff6b07ee761ae5da1b',\n",
       " '54af40549feac8c648d573775777c823',\n",
       " 'd50d5cf3b37b8728bc1033bf5e537e39',\n",
       " 'eb727f972742f7ff6b07ee761ae5da1b',\n",
       " 'd50d5cf3b37b8728bc1033bf5e537e39',\n",
       " 'eb727f972742f7ff6b07ee761ae5da1b',\n",
       " 'd50d5cf3b37b8728bc1033bf5e537e39',\n",
       " 'eb727f972742f7ff6b07ee761ae5da1b',\n",
       " 'd50d5cf3b37b8728bc1033bf5e537e39',\n",
       " 'eb727f972742f7ff6b07ee761ae5da1b',\n",
       " 'd50d5cf3b37b8728bc1033bf5e537e39',\n",
       " 'ca431c645b8bbf6de0a2ce1f9856af50',\n",
       " 'd50d5cf3b37b8728bc1033bf5e537e39',\n",
       " 'eb727f972742f7ff6b07ee761ae5da1b',\n",
       " 'd50d5cf3b37b8728bc1033bf5e537e39',\n",
       " '0a0262a3ff2f66dfbc8393f654f04cec']"
      ]
     },
     "execution_count": 12,
     "metadata": {},
     "output_type": "execute_result"
    }
   ],
   "source": [
    "seq_df.iloc[0][\"SEQUENCE\"]"
   ]
  },
  {
   "cell_type": "code",
   "execution_count": 13,
   "metadata": {},
   "outputs": [
    {
     "data": {
      "text/plain": [
       "42"
      ]
     },
     "execution_count": 13,
     "metadata": {},
     "output_type": "execute_result"
    }
   ],
   "source": [
    "seq_df = seq_df.explode(column=\"SEQUENCE\")\n",
    "gc.collect()"
   ]
  },
  {
   "cell_type": "code",
   "execution_count": 14,
   "metadata": {},
   "outputs": [
    {
     "data": {
      "text/plain": [
       "17783022"
      ]
     },
     "execution_count": 14,
     "metadata": {},
     "output_type": "execute_result"
    }
   ],
   "source": [
    "seq_df.shape[0]"
   ]
  },
  {
   "cell_type": "code",
   "execution_count": 15,
   "metadata": {},
   "outputs": [
    {
     "data": {
      "text/html": [
       "<div>\n",
       "<style scoped>\n",
       "    .dataframe tbody tr th:only-of-type {\n",
       "        vertical-align: middle;\n",
       "    }\n",
       "\n",
       "    .dataframe tbody tr th {\n",
       "        vertical-align: top;\n",
       "    }\n",
       "\n",
       "    .dataframe thead th {\n",
       "        text-align: right;\n",
       "    }\n",
       "</style>\n",
       "<table border=\"1\" class=\"dataframe\">\n",
       "  <thead>\n",
       "    <tr style=\"text-align: right;\">\n",
       "      <th></th>\n",
       "      <th>CLIENT_ID</th>\n",
       "      <th>SEQUENCE</th>\n",
       "    </tr>\n",
       "  </thead>\n",
       "  <tbody>\n",
       "    <tr>\n",
       "      <th>0</th>\n",
       "      <td>1000100</td>\n",
       "      <td>e84b0f471b8e8f4aecc81eb27b16c092</td>\n",
       "    </tr>\n",
       "    <tr>\n",
       "      <th>0</th>\n",
       "      <td>1000100</td>\n",
       "      <td>9a7670be67a118ddd4b30f5cdd3b035e</td>\n",
       "    </tr>\n",
       "    <tr>\n",
       "      <th>0</th>\n",
       "      <td>1000100</td>\n",
       "      <td>e65bd9b13ec4a97ac7b912f37c3e36d4</td>\n",
       "    </tr>\n",
       "    <tr>\n",
       "      <th>0</th>\n",
       "      <td>1000100</td>\n",
       "      <td>aeb4b083a0762ecba2222942ab6b7e22</td>\n",
       "    </tr>\n",
       "    <tr>\n",
       "      <th>0</th>\n",
       "      <td>1000100</td>\n",
       "      <td>23114079654c0224e07fe90619744944</td>\n",
       "    </tr>\n",
       "  </tbody>\n",
       "</table>\n",
       "</div>"
      ],
      "text/plain": [
       "   CLIENT_ID                          SEQUENCE\n",
       "0    1000100  e84b0f471b8e8f4aecc81eb27b16c092\n",
       "0    1000100  9a7670be67a118ddd4b30f5cdd3b035e\n",
       "0    1000100  e65bd9b13ec4a97ac7b912f37c3e36d4\n",
       "0    1000100  aeb4b083a0762ecba2222942ab6b7e22\n",
       "0    1000100  23114079654c0224e07fe90619744944"
      ]
     },
     "execution_count": 15,
     "metadata": {},
     "output_type": "execute_result"
    }
   ],
   "source": [
    "seq_df.head(5)"
   ]
  },
  {
   "cell_type": "code",
   "execution_count": 16,
   "metadata": {},
   "outputs": [
    {
     "data": {
      "text/html": [
       "<div>\n",
       "<style scoped>\n",
       "    .dataframe tbody tr th:only-of-type {\n",
       "        vertical-align: middle;\n",
       "    }\n",
       "\n",
       "    .dataframe tbody tr th {\n",
       "        vertical-align: top;\n",
       "    }\n",
       "\n",
       "    .dataframe thead th {\n",
       "        text-align: right;\n",
       "    }\n",
       "</style>\n",
       "<table border=\"1\" class=\"dataframe\">\n",
       "  <thead>\n",
       "    <tr style=\"text-align: right;\">\n",
       "      <th></th>\n",
       "      <th>CLIENT_ID</th>\n",
       "      <th>SEQUENCE</th>\n",
       "      <th>RN</th>\n",
       "    </tr>\n",
       "  </thead>\n",
       "  <tbody>\n",
       "    <tr>\n",
       "      <th>0</th>\n",
       "      <td>1000100</td>\n",
       "      <td>e84b0f471b8e8f4aecc81eb27b16c092</td>\n",
       "      <td>1</td>\n",
       "    </tr>\n",
       "    <tr>\n",
       "      <th>0</th>\n",
       "      <td>1000100</td>\n",
       "      <td>9a7670be67a118ddd4b30f5cdd3b035e</td>\n",
       "      <td>2</td>\n",
       "    </tr>\n",
       "    <tr>\n",
       "      <th>0</th>\n",
       "      <td>1000100</td>\n",
       "      <td>e65bd9b13ec4a97ac7b912f37c3e36d4</td>\n",
       "      <td>3</td>\n",
       "    </tr>\n",
       "    <tr>\n",
       "      <th>0</th>\n",
       "      <td>1000100</td>\n",
       "      <td>aeb4b083a0762ecba2222942ab6b7e22</td>\n",
       "      <td>4</td>\n",
       "    </tr>\n",
       "    <tr>\n",
       "      <th>0</th>\n",
       "      <td>1000100</td>\n",
       "      <td>23114079654c0224e07fe90619744944</td>\n",
       "      <td>5</td>\n",
       "    </tr>\n",
       "  </tbody>\n",
       "</table>\n",
       "</div>"
      ],
      "text/plain": [
       "   CLIENT_ID                          SEQUENCE  RN\n",
       "0    1000100  e84b0f471b8e8f4aecc81eb27b16c092   1\n",
       "0    1000100  9a7670be67a118ddd4b30f5cdd3b035e   2\n",
       "0    1000100  e65bd9b13ec4a97ac7b912f37c3e36d4   3\n",
       "0    1000100  aeb4b083a0762ecba2222942ab6b7e22   4\n",
       "0    1000100  23114079654c0224e07fe90619744944   5"
      ]
     },
     "execution_count": 16,
     "metadata": {},
     "output_type": "execute_result"
    }
   ],
   "source": [
    "seq_df[\"RN\"] = seq_df.groupby(\"CLIENT_ID\").cumcount() + 1\n",
    "seq_df.head(5)"
   ]
  },
  {
   "cell_type": "code",
   "execution_count": 17,
   "metadata": {},
   "outputs": [
    {
     "data": {
      "text/plain": [
       "143.75113776908339"
      ]
     },
     "execution_count": 17,
     "metadata": {},
     "output_type": "execute_result"
    }
   ],
   "source": [
    "seq_df.groupby(\"CLIENT_ID\").agg(count=(\"RN\", \"max\"))[\"count\"].mean()"
   ]
  },
  {
   "cell_type": "markdown",
   "metadata": {},
   "source": [
    "**FINAL_SEQUENCES_MATRIX**"
   ]
  },
  {
   "cell_type": "code",
   "execution_count": 18,
   "metadata": {},
   "outputs": [
    {
     "data": {
      "text/plain": [
       "1489576"
      ]
     },
     "execution_count": 18,
     "metadata": {},
     "output_type": "execute_result"
    }
   ],
   "source": [
    "matrix = pd.read_csv(\"ВК/FINAL_SEQUENCES_MATRIX.tsv\", sep=\"\\t\")\n",
    "matrix.shape[0]"
   ]
  },
  {
   "cell_type": "code",
   "execution_count": 19,
   "metadata": {},
   "outputs": [
    {
     "data": {
      "text/html": [
       "<div>\n",
       "<style scoped>\n",
       "    .dataframe tbody tr th:only-of-type {\n",
       "        vertical-align: middle;\n",
       "    }\n",
       "\n",
       "    .dataframe tbody tr th {\n",
       "        vertical-align: top;\n",
       "    }\n",
       "\n",
       "    .dataframe thead th {\n",
       "        text-align: right;\n",
       "    }\n",
       "</style>\n",
       "<table border=\"1\" class=\"dataframe\">\n",
       "  <thead>\n",
       "    <tr style=\"text-align: right;\">\n",
       "      <th></th>\n",
       "      <th>SESSIONS_SEQUENCES</th>\n",
       "    </tr>\n",
       "  </thead>\n",
       "  <tbody>\n",
       "    <tr>\n",
       "      <th>0</th>\n",
       "      <td>['68a9902529901882ecd5143460468d4c', '79d75347...</td>\n",
       "    </tr>\n",
       "    <tr>\n",
       "      <th>1</th>\n",
       "      <td>['72b88f72bca2636844bb14b9cd9e29b3']</td>\n",
       "    </tr>\n",
       "    <tr>\n",
       "      <th>2</th>\n",
       "      <td>['b496d19eb25556bd64e481d11b6f7dd6', 'd21918bb...</td>\n",
       "    </tr>\n",
       "    <tr>\n",
       "      <th>3</th>\n",
       "      <td>['dcb3d50673073d3c023db102f21b2d3e', '09a5d816...</td>\n",
       "    </tr>\n",
       "    <tr>\n",
       "      <th>4</th>\n",
       "      <td>['3de59e26ee7e94a6ccd0a2eead2fab9a', '4a51f13a...</td>\n",
       "    </tr>\n",
       "  </tbody>\n",
       "</table>\n",
       "</div>"
      ],
      "text/plain": [
       "                                  SESSIONS_SEQUENCES\n",
       "0  ['68a9902529901882ecd5143460468d4c', '79d75347...\n",
       "1               ['72b88f72bca2636844bb14b9cd9e29b3']\n",
       "2  ['b496d19eb25556bd64e481d11b6f7dd6', 'd21918bb...\n",
       "3  ['dcb3d50673073d3c023db102f21b2d3e', '09a5d816...\n",
       "4  ['3de59e26ee7e94a6ccd0a2eead2fab9a', '4a51f13a..."
      ]
     },
     "execution_count": 19,
     "metadata": {},
     "output_type": "execute_result"
    }
   ],
   "source": [
    "matrix.head(5)"
   ]
  },
  {
   "cell_type": "code",
   "execution_count": 20,
   "metadata": {},
   "outputs": [
    {
     "data": {
      "text/plain": [
       "0"
      ]
     },
     "execution_count": 20,
     "metadata": {},
     "output_type": "execute_result"
    }
   ],
   "source": [
    "matrix[\"SESSIONS_SEQUENCES\"] = matrix[\"SESSIONS_SEQUENCES\"].apply(eval)\n",
    "gc.collect()"
   ]
  },
  {
   "cell_type": "code",
   "execution_count": 21,
   "metadata": {},
   "outputs": [
    {
     "data": {
      "text/plain": [
       "21"
      ]
     },
     "execution_count": 21,
     "metadata": {},
     "output_type": "execute_result"
    }
   ],
   "source": [
    "matrix = matrix.explode(column=\"SESSIONS_SEQUENCES\")\n",
    "gc.collect()"
   ]
  },
  {
   "cell_type": "code",
   "execution_count": 22,
   "metadata": {},
   "outputs": [
    {
     "data": {
      "text/plain": [
       "34945691"
      ]
     },
     "execution_count": 22,
     "metadata": {},
     "output_type": "execute_result"
    }
   ],
   "source": [
    "matrix.shape[0]"
   ]
  },
  {
   "cell_type": "code",
   "execution_count": 23,
   "metadata": {},
   "outputs": [],
   "source": [
    "matrix.reset_index(drop=False, inplace=True)"
   ]
  },
  {
   "cell_type": "code",
   "execution_count": 24,
   "metadata": {},
   "outputs": [],
   "source": [
    "matrix.columns = [\"CLIENT_ID\", \"SEQUENCE\"]"
   ]
  },
  {
   "cell_type": "code",
   "execution_count": 25,
   "metadata": {},
   "outputs": [],
   "source": [
    "matrix[\"CLIENT_ID\"] += target_df[\"CLIENT_ID\"].max() + 1"
   ]
  },
  {
   "cell_type": "code",
   "execution_count": 26,
   "metadata": {},
   "outputs": [
    {
     "data": {
      "text/html": [
       "<div>\n",
       "<style scoped>\n",
       "    .dataframe tbody tr th:only-of-type {\n",
       "        vertical-align: middle;\n",
       "    }\n",
       "\n",
       "    .dataframe tbody tr th {\n",
       "        vertical-align: top;\n",
       "    }\n",
       "\n",
       "    .dataframe thead th {\n",
       "        text-align: right;\n",
       "    }\n",
       "</style>\n",
       "<table border=\"1\" class=\"dataframe\">\n",
       "  <thead>\n",
       "    <tr style=\"text-align: right;\">\n",
       "      <th></th>\n",
       "      <th>CLIENT_ID</th>\n",
       "      <th>SEQUENCE</th>\n",
       "      <th>RN</th>\n",
       "    </tr>\n",
       "  </thead>\n",
       "  <tbody>\n",
       "    <tr>\n",
       "      <th>0</th>\n",
       "      <td>1770293</td>\n",
       "      <td>68a9902529901882ecd5143460468d4c</td>\n",
       "      <td>1</td>\n",
       "    </tr>\n",
       "    <tr>\n",
       "      <th>1</th>\n",
       "      <td>1770293</td>\n",
       "      <td>79d75347a9f7b1f2c3a8ab2adc53b572</td>\n",
       "      <td>2</td>\n",
       "    </tr>\n",
       "    <tr>\n",
       "      <th>2</th>\n",
       "      <td>1770293</td>\n",
       "      <td>68a9902529901882ecd5143460468d4c</td>\n",
       "      <td>3</td>\n",
       "    </tr>\n",
       "    <tr>\n",
       "      <th>3</th>\n",
       "      <td>1770293</td>\n",
       "      <td>3b3c39e359f70ab131cf111de8e637fc</td>\n",
       "      <td>4</td>\n",
       "    </tr>\n",
       "    <tr>\n",
       "      <th>4</th>\n",
       "      <td>1770293</td>\n",
       "      <td>68a9902529901882ecd5143460468d4c</td>\n",
       "      <td>5</td>\n",
       "    </tr>\n",
       "  </tbody>\n",
       "</table>\n",
       "</div>"
      ],
      "text/plain": [
       "   CLIENT_ID                          SEQUENCE  RN\n",
       "0    1770293  68a9902529901882ecd5143460468d4c   1\n",
       "1    1770293  79d75347a9f7b1f2c3a8ab2adc53b572   2\n",
       "2    1770293  68a9902529901882ecd5143460468d4c   3\n",
       "3    1770293  3b3c39e359f70ab131cf111de8e637fc   4\n",
       "4    1770293  68a9902529901882ecd5143460468d4c   5"
      ]
     },
     "execution_count": 26,
     "metadata": {},
     "output_type": "execute_result"
    }
   ],
   "source": [
    "matrix[\"RN\"] = matrix.groupby(\"CLIENT_ID\").cumcount() + 1\n",
    "matrix.head(5)"
   ]
  },
  {
   "cell_type": "code",
   "execution_count": 27,
   "metadata": {},
   "outputs": [
    {
     "data": {
      "text/plain": [
       "23.46015980386365"
      ]
     },
     "execution_count": 27,
     "metadata": {},
     "output_type": "execute_result"
    }
   ],
   "source": [
    "matrix.groupby(\"CLIENT_ID\").agg(count=(\"RN\", \"max\"))[\"count\"].mean()"
   ]
  },
  {
   "cell_type": "markdown",
   "metadata": {},
   "source": [
    "**Merge sequences and targets**"
   ]
  },
  {
   "cell_type": "code",
   "execution_count": 28,
   "metadata": {},
   "outputs": [
    {
     "data": {
      "text/plain": [
       "(159290, 123707)"
      ]
     },
     "execution_count": 28,
     "metadata": {},
     "output_type": "execute_result"
    }
   ],
   "source": [
    "target_df[\"CLIENT_ID\"].nunique(), seq_df[\"CLIENT_ID\"].nunique()"
   ]
  },
  {
   "cell_type": "code",
   "execution_count": 29,
   "metadata": {},
   "outputs": [
    {
     "data": {
      "text/plain": [
       "(159290, 38404)"
      ]
     },
     "execution_count": 29,
     "metadata": {},
     "output_type": "execute_result"
    }
   ],
   "source": [
    "seq_target_df = target_df.merge(seq_df, how=\"left\", on=\"CLIENT_ID\")\n",
    "target_df.shape[0], seq_target_df[\"SEQUENCE\"].isna().sum()"
   ]
  },
  {
   "cell_type": "code",
   "execution_count": 30,
   "metadata": {},
   "outputs": [
    {
     "data": {
      "text/plain": [
       "0"
      ]
     },
     "execution_count": 30,
     "metadata": {},
     "output_type": "execute_result"
    }
   ],
   "source": [
    "(~(seq_df[\"CLIENT_ID\"].isin(target_df[\"CLIENT_ID\"]))).sum()"
   ]
  },
  {
   "cell_type": "code",
   "execution_count": 31,
   "metadata": {},
   "outputs": [
    {
     "data": {
      "text/plain": [
       "35583"
      ]
     },
     "execution_count": 31,
     "metadata": {},
     "output_type": "execute_result"
    }
   ],
   "source": [
    "(~(target_df[\"CLIENT_ID\"].isin(seq_df[\"CLIENT_ID\"]))).sum()"
   ]
  },
  {
   "cell_type": "code",
   "execution_count": 32,
   "metadata": {},
   "outputs": [],
   "source": [
    "matrix[\"TARGET\"] = np.nan"
   ]
  },
  {
   "cell_type": "code",
   "execution_count": 33,
   "metadata": {},
   "outputs": [
    {
     "data": {
      "text/html": [
       "<div>\n",
       "<style scoped>\n",
       "    .dataframe tbody tr th:only-of-type {\n",
       "        vertical-align: middle;\n",
       "    }\n",
       "\n",
       "    .dataframe tbody tr th {\n",
       "        vertical-align: top;\n",
       "    }\n",
       "\n",
       "    .dataframe thead th {\n",
       "        text-align: right;\n",
       "    }\n",
       "</style>\n",
       "<table border=\"1\" class=\"dataframe\">\n",
       "  <thead>\n",
       "    <tr style=\"text-align: right;\">\n",
       "      <th></th>\n",
       "      <th>CLIENT_ID</th>\n",
       "      <th>SEQUENCE</th>\n",
       "      <th>RN</th>\n",
       "      <th>TARGET</th>\n",
       "    </tr>\n",
       "  </thead>\n",
       "  <tbody>\n",
       "    <tr>\n",
       "      <th>0</th>\n",
       "      <td>1770293</td>\n",
       "      <td>68a9902529901882ecd5143460468d4c</td>\n",
       "      <td>1</td>\n",
       "      <td>NaN</td>\n",
       "    </tr>\n",
       "    <tr>\n",
       "      <th>1</th>\n",
       "      <td>1770293</td>\n",
       "      <td>79d75347a9f7b1f2c3a8ab2adc53b572</td>\n",
       "      <td>2</td>\n",
       "      <td>NaN</td>\n",
       "    </tr>\n",
       "    <tr>\n",
       "      <th>2</th>\n",
       "      <td>1770293</td>\n",
       "      <td>68a9902529901882ecd5143460468d4c</td>\n",
       "      <td>3</td>\n",
       "      <td>NaN</td>\n",
       "    </tr>\n",
       "    <tr>\n",
       "      <th>3</th>\n",
       "      <td>1770293</td>\n",
       "      <td>3b3c39e359f70ab131cf111de8e637fc</td>\n",
       "      <td>4</td>\n",
       "      <td>NaN</td>\n",
       "    </tr>\n",
       "    <tr>\n",
       "      <th>4</th>\n",
       "      <td>1770293</td>\n",
       "      <td>68a9902529901882ecd5143460468d4c</td>\n",
       "      <td>5</td>\n",
       "      <td>NaN</td>\n",
       "    </tr>\n",
       "  </tbody>\n",
       "</table>\n",
       "</div>"
      ],
      "text/plain": [
       "   CLIENT_ID                          SEQUENCE  RN  TARGET\n",
       "0    1770293  68a9902529901882ecd5143460468d4c   1     NaN\n",
       "1    1770293  79d75347a9f7b1f2c3a8ab2adc53b572   2     NaN\n",
       "2    1770293  68a9902529901882ecd5143460468d4c   3     NaN\n",
       "3    1770293  3b3c39e359f70ab131cf111de8e637fc   4     NaN\n",
       "4    1770293  68a9902529901882ecd5143460468d4c   5     NaN"
      ]
     },
     "execution_count": 33,
     "metadata": {},
     "output_type": "execute_result"
    }
   ],
   "source": [
    "matrix.head(5)"
   ]
  },
  {
   "cell_type": "code",
   "execution_count": 34,
   "metadata": {},
   "outputs": [
    {
     "data": {
      "text/plain": [
       "52764296"
      ]
     },
     "execution_count": 34,
     "metadata": {},
     "output_type": "execute_result"
    }
   ],
   "source": [
    "all_seq_df = pd.concat([seq_target_df, matrix], ignore_index=True).reset_index(drop=True)\n",
    "all_seq_df.shape[0]"
   ]
  },
  {
   "cell_type": "markdown",
   "metadata": {},
   "source": [
    "**Drop empty states list**"
   ]
  },
  {
   "cell_type": "code",
   "execution_count": 35,
   "metadata": {},
   "outputs": [
    {
     "data": {
      "text/plain": [
       "63"
      ]
     },
     "execution_count": 35,
     "metadata": {},
     "output_type": "execute_result"
    }
   ],
   "source": [
    "all_seq_df.dropna(subset=[\"SEQUENCE\"], inplace=True)\n",
    "gc.collect()"
   ]
  },
  {
   "cell_type": "markdown",
   "metadata": {},
   "source": [
    "**Clip last states**"
   ]
  },
  {
   "cell_type": "code",
   "execution_count": 36,
   "metadata": {},
   "outputs": [
    {
     "data": {
      "text/plain": [
       "52650678"
      ]
     },
     "execution_count": 36,
     "metadata": {},
     "output_type": "execute_result"
    }
   ],
   "source": [
    "all_seq_df.shape[0]"
   ]
  },
  {
   "cell_type": "code",
   "execution_count": 37,
   "metadata": {},
   "outputs": [
    {
     "data": {
      "text/plain": [
       "42"
      ]
     },
     "execution_count": 37,
     "metadata": {},
     "output_type": "execute_result"
    }
   ],
   "source": [
    "seq_lens = all_seq_df.groupby(\"CLIENT_ID\").agg(count=(\"RN\", \"count\")).reset_index(drop=False)\n",
    "all_seq_df = all_seq_df.merge(seq_lens, how=\"left\", on=\"CLIENT_ID\")\n",
    "gc.collect()"
   ]
  },
  {
   "cell_type": "code",
   "execution_count": 38,
   "metadata": {},
   "outputs": [
    {
     "data": {
      "text/plain": [
       "52650678"
      ]
     },
     "execution_count": 38,
     "metadata": {},
     "output_type": "execute_result"
    }
   ],
   "source": [
    "all_seq_df.shape[0]"
   ]
  },
  {
   "cell_type": "code",
   "execution_count": 39,
   "metadata": {},
   "outputs": [
    {
     "data": {
      "text/plain": [
       "34.294575208695925"
      ]
     },
     "execution_count": 39,
     "metadata": {},
     "output_type": "execute_result"
    }
   ],
   "source": [
    "seq_lens[\"count\"].mean()"
   ]
  },
  {
   "cell_type": "code",
   "execution_count": 40,
   "metadata": {},
   "outputs": [
    {
     "data": {
      "text/plain": [
       "8.0"
      ]
     },
     "execution_count": 40,
     "metadata": {},
     "output_type": "execute_result"
    }
   ],
   "source": [
    "seq_lens[\"count\"].median()"
   ]
  },
  {
   "cell_type": "code",
   "execution_count": 41,
   "metadata": {},
   "outputs": [
    {
     "data": {
      "text/plain": [
       "116.0"
      ]
     },
     "execution_count": 41,
     "metadata": {},
     "output_type": "execute_result"
    }
   ],
   "source": [
    "seq_lens[\"count\"].quantile(0.95)"
   ]
  },
  {
   "cell_type": "code",
   "execution_count": 42,
   "metadata": {},
   "outputs": [
    {
     "data": {
      "text/plain": [
       "255.0"
      ]
     },
     "execution_count": 42,
     "metadata": {},
     "output_type": "execute_result"
    }
   ],
   "source": [
    "seq_lens[\"count\"].quantile(0.98)"
   ]
  },
  {
   "cell_type": "code",
   "execution_count": 43,
   "metadata": {},
   "outputs": [
    {
     "data": {
      "text/plain": [
       "131431"
      ]
     },
     "execution_count": 43,
     "metadata": {},
     "output_type": "execute_result"
    }
   ],
   "source": [
    "seq_lens[\"count\"].max()"
   ]
  },
  {
   "cell_type": "code",
   "execution_count": 44,
   "metadata": {},
   "outputs": [
    {
     "data": {
      "text/html": [
       "<div>\n",
       "<style scoped>\n",
       "    .dataframe tbody tr th:only-of-type {\n",
       "        vertical-align: middle;\n",
       "    }\n",
       "\n",
       "    .dataframe tbody tr th {\n",
       "        vertical-align: top;\n",
       "    }\n",
       "\n",
       "    .dataframe thead th {\n",
       "        text-align: right;\n",
       "    }\n",
       "</style>\n",
       "<table border=\"1\" class=\"dataframe\">\n",
       "  <thead>\n",
       "    <tr style=\"text-align: right;\">\n",
       "      <th></th>\n",
       "      <th>CLIENT_ID</th>\n",
       "      <th>RETRO_DT</th>\n",
       "      <th>TARGET</th>\n",
       "      <th>SEQUENCE</th>\n",
       "      <th>RN</th>\n",
       "      <th>count</th>\n",
       "    </tr>\n",
       "  </thead>\n",
       "  <tbody>\n",
       "    <tr>\n",
       "      <th>0</th>\n",
       "      <td>1011725</td>\n",
       "      <td>20210501.0</td>\n",
       "      <td>0</td>\n",
       "      <td>358f1de5feb4209fae852fb0a61de5d8</td>\n",
       "      <td>1.0</td>\n",
       "      <td>163</td>\n",
       "    </tr>\n",
       "    <tr>\n",
       "      <th>1</th>\n",
       "      <td>1011725</td>\n",
       "      <td>20210501.0</td>\n",
       "      <td>0</td>\n",
       "      <td>6760174c4579afec8bf24a3ac824ab20</td>\n",
       "      <td>2.0</td>\n",
       "      <td>163</td>\n",
       "    </tr>\n",
       "    <tr>\n",
       "      <th>2</th>\n",
       "      <td>1011725</td>\n",
       "      <td>20210501.0</td>\n",
       "      <td>0</td>\n",
       "      <td>46cde2a2407d537a0b34ef1e6b768f24</td>\n",
       "      <td>3.0</td>\n",
       "      <td>163</td>\n",
       "    </tr>\n",
       "    <tr>\n",
       "      <th>3</th>\n",
       "      <td>1011725</td>\n",
       "      <td>20210501.0</td>\n",
       "      <td>0</td>\n",
       "      <td>ad197c71dae25b9d0633d66353f194b4</td>\n",
       "      <td>4.0</td>\n",
       "      <td>163</td>\n",
       "    </tr>\n",
       "    <tr>\n",
       "      <th>4</th>\n",
       "      <td>1011725</td>\n",
       "      <td>20210501.0</td>\n",
       "      <td>0</td>\n",
       "      <td>b2d534801c7163b324a0447b7f26fd65</td>\n",
       "      <td>5.0</td>\n",
       "      <td>163</td>\n",
       "    </tr>\n",
       "  </tbody>\n",
       "</table>\n",
       "</div>"
      ],
      "text/plain": [
       "   CLIENT_ID    RETRO_DT TARGET                          SEQUENCE   RN  count\n",
       "0    1011725  20210501.0      0  358f1de5feb4209fae852fb0a61de5d8  1.0    163\n",
       "1    1011725  20210501.0      0  6760174c4579afec8bf24a3ac824ab20  2.0    163\n",
       "2    1011725  20210501.0      0  46cde2a2407d537a0b34ef1e6b768f24  3.0    163\n",
       "3    1011725  20210501.0      0  ad197c71dae25b9d0633d66353f194b4  4.0    163\n",
       "4    1011725  20210501.0      0  b2d534801c7163b324a0447b7f26fd65  5.0    163"
      ]
     },
     "execution_count": 44,
     "metadata": {},
     "output_type": "execute_result"
    }
   ],
   "source": [
    "all_seq_df.head(5)"
   ]
  },
  {
   "cell_type": "code",
   "execution_count": 45,
   "metadata": {},
   "outputs": [
    {
     "data": {
      "text/html": [
       "<div>\n",
       "<style scoped>\n",
       "    .dataframe tbody tr th:only-of-type {\n",
       "        vertical-align: middle;\n",
       "    }\n",
       "\n",
       "    .dataframe tbody tr th {\n",
       "        vertical-align: top;\n",
       "    }\n",
       "\n",
       "    .dataframe thead th {\n",
       "        text-align: right;\n",
       "    }\n",
       "</style>\n",
       "<table border=\"1\" class=\"dataframe\">\n",
       "  <thead>\n",
       "    <tr style=\"text-align: right;\">\n",
       "      <th></th>\n",
       "      <th>CLIENT_ID</th>\n",
       "      <th>RETRO_DT</th>\n",
       "      <th>TARGET</th>\n",
       "      <th>SEQUENCE</th>\n",
       "      <th>RN</th>\n",
       "      <th>count</th>\n",
       "      <th>BACK_RN</th>\n",
       "    </tr>\n",
       "  </thead>\n",
       "  <tbody>\n",
       "    <tr>\n",
       "      <th>0</th>\n",
       "      <td>1011725</td>\n",
       "      <td>20210501.0</td>\n",
       "      <td>0</td>\n",
       "      <td>358f1de5feb4209fae852fb0a61de5d8</td>\n",
       "      <td>1</td>\n",
       "      <td>163</td>\n",
       "      <td>163</td>\n",
       "    </tr>\n",
       "    <tr>\n",
       "      <th>1</th>\n",
       "      <td>1011725</td>\n",
       "      <td>20210501.0</td>\n",
       "      <td>0</td>\n",
       "      <td>6760174c4579afec8bf24a3ac824ab20</td>\n",
       "      <td>2</td>\n",
       "      <td>163</td>\n",
       "      <td>162</td>\n",
       "    </tr>\n",
       "    <tr>\n",
       "      <th>2</th>\n",
       "      <td>1011725</td>\n",
       "      <td>20210501.0</td>\n",
       "      <td>0</td>\n",
       "      <td>46cde2a2407d537a0b34ef1e6b768f24</td>\n",
       "      <td>3</td>\n",
       "      <td>163</td>\n",
       "      <td>161</td>\n",
       "    </tr>\n",
       "    <tr>\n",
       "      <th>3</th>\n",
       "      <td>1011725</td>\n",
       "      <td>20210501.0</td>\n",
       "      <td>0</td>\n",
       "      <td>ad197c71dae25b9d0633d66353f194b4</td>\n",
       "      <td>4</td>\n",
       "      <td>163</td>\n",
       "      <td>160</td>\n",
       "    </tr>\n",
       "    <tr>\n",
       "      <th>4</th>\n",
       "      <td>1011725</td>\n",
       "      <td>20210501.0</td>\n",
       "      <td>0</td>\n",
       "      <td>b2d534801c7163b324a0447b7f26fd65</td>\n",
       "      <td>5</td>\n",
       "      <td>163</td>\n",
       "      <td>159</td>\n",
       "    </tr>\n",
       "  </tbody>\n",
       "</table>\n",
       "</div>"
      ],
      "text/plain": [
       "   CLIENT_ID    RETRO_DT TARGET                          SEQUENCE  RN  count  \\\n",
       "0    1011725  20210501.0      0  358f1de5feb4209fae852fb0a61de5d8   1    163   \n",
       "1    1011725  20210501.0      0  6760174c4579afec8bf24a3ac824ab20   2    163   \n",
       "2    1011725  20210501.0      0  46cde2a2407d537a0b34ef1e6b768f24   3    163   \n",
       "3    1011725  20210501.0      0  ad197c71dae25b9d0633d66353f194b4   4    163   \n",
       "4    1011725  20210501.0      0  b2d534801c7163b324a0447b7f26fd65   5    163   \n",
       "\n",
       "   BACK_RN  \n",
       "0      163  \n",
       "1      162  \n",
       "2      161  \n",
       "3      160  \n",
       "4      159  "
      ]
     },
     "execution_count": 45,
     "metadata": {},
     "output_type": "execute_result"
    }
   ],
   "source": [
    "all_seq_df[\"RN\"] = all_seq_df[\"RN\"].astype(\"int\")\n",
    "all_seq_df[\"BACK_RN\"] = (all_seq_df[\"count\"] + 1 - all_seq_df[\"RN\"])\n",
    "all_seq_df.head(5)"
   ]
  },
  {
   "cell_type": "code",
   "execution_count": 46,
   "metadata": {},
   "outputs": [
    {
     "data": {
      "text/plain": [
       "38906662"
      ]
     },
     "execution_count": 46,
     "metadata": {},
     "output_type": "execute_result"
    }
   ],
   "source": [
    "MAX_SEQ_LEN = 256\n",
    "\n",
    "all_seq_df = all_seq_df[all_seq_df[\"BACK_RN\"] <= MAX_SEQ_LEN]\n",
    "all_seq_df.shape[0]"
   ]
  },
  {
   "cell_type": "markdown",
   "metadata": {},
   "source": [
    "**Train test split**"
   ]
  },
  {
   "cell_type": "code",
   "execution_count": 47,
   "metadata": {},
   "outputs": [],
   "source": [
    "train_seq_df = all_seq_df[all_seq_df[\"TARGET\"]!=\"test\"]\n",
    "test_seq_df = all_seq_df[all_seq_df[\"TARGET\"]==\"test\"]"
   ]
  },
  {
   "cell_type": "markdown",
   "metadata": {},
   "source": [
    "**Encoding sequence feature**"
   ]
  },
  {
   "cell_type": "code",
   "execution_count": 48,
   "metadata": {},
   "outputs": [
    {
     "data": {
      "text/plain": [
       "eb727f972742f7ff6b07ee761ae5da1b    3187800\n",
       "b496d19eb25556bd64e481d11b6f7dd6    1584956\n",
       "9a7670be67a118ddd4b30f5cdd3b035e     934613\n",
       "d08c1bbf135ff7e0c8324fbc890e9916     872743\n",
       "87a4ccc2101bb6109d397e91e9291624     871394\n",
       "                                     ...   \n",
       "5c7ba1619265e709b3b451c80bc32acd          1\n",
       "1055b5bbeb4c0844b0820cc6dd53e94d          1\n",
       "3084585bf2ace9d4170e4b4019f17b4a          1\n",
       "0d3a54cbb5dc76a2da200a5dc8af82f0          1\n",
       "67713d2a080b6a9a2c84f2069d100f13          1\n",
       "Name: SEQUENCE, Length: 383075, dtype: int64"
      ]
     },
     "execution_count": 48,
     "metadata": {},
     "output_type": "execute_result"
    }
   ],
   "source": [
    "val_counts = train_seq_df[\"SEQUENCE\"].value_counts(sort=True)\n",
    "val_counts"
   ]
  },
  {
   "cell_type": "code",
   "execution_count": 49,
   "metadata": {},
   "outputs": [
    {
     "data": {
      "text/plain": [
       "63535"
      ]
     },
     "execution_count": 49,
     "metadata": {},
     "output_type": "execute_result"
    }
   ],
   "source": [
    "val_counts = val_counts[val_counts > 10]\n",
    "val_counts.shape[0]"
   ]
  },
  {
   "cell_type": "code",
   "execution_count": 50,
   "metadata": {},
   "outputs": [
    {
     "data": {
      "text/plain": [
       "63535"
      ]
     },
     "execution_count": 50,
     "metadata": {},
     "output_type": "execute_result"
    }
   ],
   "source": [
    "encoding_dict = {k: i for i, k in enumerate(val_counts.index.values, start=1)}\n",
    "len(encoding_dict.keys())"
   ]
  },
  {
   "cell_type": "code",
   "execution_count": 51,
   "metadata": {},
   "outputs": [],
   "source": [
    "encoding_dict[\"\"] = 0"
   ]
  },
  {
   "cell_type": "code",
   "execution_count": 52,
   "metadata": {},
   "outputs": [
    {
     "name": "stderr",
     "output_type": "stream",
     "text": [
      "/home/u_m1bs9/.local/lib/python3.7/site-packages/pandas/core/indexing.py:1817: SettingWithCopyWarning: \n",
      "A value is trying to be set on a copy of a slice from a DataFrame.\n",
      "Try using .loc[row_indexer,col_indexer] = value instead\n",
      "\n",
      "See the caveats in the documentation: https://pandas.pydata.org/pandas-docs/stable/user_guide/indexing.html#returning-a-view-versus-a-copy\n",
      "  self._setitem_single_column(loc, value, pi)\n"
     ]
    }
   ],
   "source": [
    "train_seq_df.loc[~(train_seq_df[\"SEQUENCE\"].isin(encoding_dict.keys())), \"SEQUENCE\"] = \"\""
   ]
  },
  {
   "cell_type": "code",
   "execution_count": 53,
   "metadata": {},
   "outputs": [
    {
     "data": {
      "text/plain": [
       "724130"
      ]
     },
     "execution_count": 53,
     "metadata": {},
     "output_type": "execute_result"
    }
   ],
   "source": [
    "(train_seq_df[\"SEQUENCE\"] == \"\").sum()"
   ]
  },
  {
   "cell_type": "code",
   "execution_count": 54,
   "metadata": {},
   "outputs": [
    {
     "name": "stderr",
     "output_type": "stream",
     "text": [
      "/usr/local/lib/python3.7/site-packages/ipykernel_launcher.py:1: SettingWithCopyWarning: \n",
      "A value is trying to be set on a copy of a slice from a DataFrame.\n",
      "Try using .loc[row_indexer,col_indexer] = value instead\n",
      "\n",
      "See the caveats in the documentation: https://pandas.pydata.org/pandas-docs/stable/user_guide/indexing.html#returning-a-view-versus-a-copy\n",
      "  \"\"\"Entry point for launching an IPython kernel.\n"
     ]
    },
    {
     "data": {
      "text/plain": [
       "(0, 63535, 63536)"
      ]
     },
     "execution_count": 54,
     "metadata": {},
     "output_type": "execute_result"
    }
   ],
   "source": [
    "train_seq_df[\"ENC_SEQUENCE\"] = train_seq_df[\"SEQUENCE\"].map(encoding_dict)\n",
    "train_seq_df[\"ENC_SEQUENCE\"].min(), train_seq_df[\"ENC_SEQUENCE\"].max(), train_seq_df[\"ENC_SEQUENCE\"].nunique()"
   ]
  },
  {
   "cell_type": "code",
   "execution_count": 55,
   "metadata": {},
   "outputs": [
    {
     "data": {
      "text/plain": [
       "0"
      ]
     },
     "execution_count": 55,
     "metadata": {},
     "output_type": "execute_result"
    }
   ],
   "source": [
    "train_seq_df[\"ENC_SEQUENCE\"].isna().sum()"
   ]
  },
  {
   "cell_type": "code",
   "execution_count": 56,
   "metadata": {},
   "outputs": [
    {
     "data": {
      "text/plain": [
       "724130"
      ]
     },
     "execution_count": 56,
     "metadata": {},
     "output_type": "execute_result"
    }
   ],
   "source": [
    "(train_seq_df[\"ENC_SEQUENCE\"] == 0).sum()"
   ]
  },
  {
   "cell_type": "code",
   "execution_count": 57,
   "metadata": {},
   "outputs": [],
   "source": [
    "test_seq_df.loc[~(test_seq_df[\"SEQUENCE\"].isin(encoding_dict.keys())), \"SEQUENCE\"] = \"\""
   ]
  },
  {
   "cell_type": "code",
   "execution_count": 58,
   "metadata": {},
   "outputs": [
    {
     "name": "stderr",
     "output_type": "stream",
     "text": [
      "/usr/local/lib/python3.7/site-packages/ipykernel_launcher.py:1: SettingWithCopyWarning: \n",
      "A value is trying to be set on a copy of a slice from a DataFrame.\n",
      "Try using .loc[row_indexer,col_indexer] = value instead\n",
      "\n",
      "See the caveats in the documentation: https://pandas.pydata.org/pandas-docs/stable/user_guide/indexing.html#returning-a-view-versus-a-copy\n",
      "  \"\"\"Entry point for launching an IPython kernel.\n"
     ]
    },
    {
     "data": {
      "text/plain": [
       "(0, 63535, 31599)"
      ]
     },
     "execution_count": 58,
     "metadata": {},
     "output_type": "execute_result"
    }
   ],
   "source": [
    "test_seq_df[\"ENC_SEQUENCE\"] = test_seq_df[\"SEQUENCE\"].map(encoding_dict)\n",
    "test_seq_df[\"ENC_SEQUENCE\"].min(), test_seq_df[\"ENC_SEQUENCE\"].max(), test_seq_df[\"ENC_SEQUENCE\"].nunique()"
   ]
  },
  {
   "cell_type": "code",
   "execution_count": 59,
   "metadata": {},
   "outputs": [
    {
     "data": {
      "text/plain": [
       "0"
      ]
     },
     "execution_count": 59,
     "metadata": {},
     "output_type": "execute_result"
    }
   ],
   "source": [
    "test_seq_df[\"ENC_SEQUENCE\"].isna().sum()"
   ]
  },
  {
   "cell_type": "code",
   "execution_count": 60,
   "metadata": {},
   "outputs": [
    {
     "data": {
      "text/plain": [
       "37165"
      ]
     },
     "execution_count": 60,
     "metadata": {},
     "output_type": "execute_result"
    }
   ],
   "source": [
    "(test_seq_df[\"ENC_SEQUENCE\"] == 0).sum()"
   ]
  },
  {
   "cell_type": "code",
   "execution_count": 61,
   "metadata": {},
   "outputs": [
    {
     "data": {
      "text/html": [
       "<div>\n",
       "<style scoped>\n",
       "    .dataframe tbody tr th:only-of-type {\n",
       "        vertical-align: middle;\n",
       "    }\n",
       "\n",
       "    .dataframe tbody tr th {\n",
       "        vertical-align: top;\n",
       "    }\n",
       "\n",
       "    .dataframe thead th {\n",
       "        text-align: right;\n",
       "    }\n",
       "</style>\n",
       "<table border=\"1\" class=\"dataframe\">\n",
       "  <thead>\n",
       "    <tr style=\"text-align: right;\">\n",
       "      <th></th>\n",
       "      <th>CLIENT_ID</th>\n",
       "      <th>RETRO_DT</th>\n",
       "      <th>TARGET</th>\n",
       "      <th>SEQUENCE</th>\n",
       "      <th>RN</th>\n",
       "      <th>count</th>\n",
       "      <th>BACK_RN</th>\n",
       "      <th>ENC_SEQUENCE</th>\n",
       "    </tr>\n",
       "  </thead>\n",
       "  <tbody>\n",
       "    <tr>\n",
       "      <th>0</th>\n",
       "      <td>1011725</td>\n",
       "      <td>20210501.0</td>\n",
       "      <td>0</td>\n",
       "      <td>358f1de5feb4209fae852fb0a61de5d8</td>\n",
       "      <td>1</td>\n",
       "      <td>163</td>\n",
       "      <td>163</td>\n",
       "      <td>25</td>\n",
       "    </tr>\n",
       "    <tr>\n",
       "      <th>1</th>\n",
       "      <td>1011725</td>\n",
       "      <td>20210501.0</td>\n",
       "      <td>0</td>\n",
       "      <td>6760174c4579afec8bf24a3ac824ab20</td>\n",
       "      <td>2</td>\n",
       "      <td>163</td>\n",
       "      <td>162</td>\n",
       "      <td>1105</td>\n",
       "    </tr>\n",
       "    <tr>\n",
       "      <th>2</th>\n",
       "      <td>1011725</td>\n",
       "      <td>20210501.0</td>\n",
       "      <td>0</td>\n",
       "      <td></td>\n",
       "      <td>3</td>\n",
       "      <td>163</td>\n",
       "      <td>161</td>\n",
       "      <td>0</td>\n",
       "    </tr>\n",
       "    <tr>\n",
       "      <th>3</th>\n",
       "      <td>1011725</td>\n",
       "      <td>20210501.0</td>\n",
       "      <td>0</td>\n",
       "      <td>ad197c71dae25b9d0633d66353f194b4</td>\n",
       "      <td>4</td>\n",
       "      <td>163</td>\n",
       "      <td>160</td>\n",
       "      <td>2605</td>\n",
       "    </tr>\n",
       "    <tr>\n",
       "      <th>4</th>\n",
       "      <td>1011725</td>\n",
       "      <td>20210501.0</td>\n",
       "      <td>0</td>\n",
       "      <td>b2d534801c7163b324a0447b7f26fd65</td>\n",
       "      <td>5</td>\n",
       "      <td>163</td>\n",
       "      <td>159</td>\n",
       "      <td>43</td>\n",
       "    </tr>\n",
       "  </tbody>\n",
       "</table>\n",
       "</div>"
      ],
      "text/plain": [
       "   CLIENT_ID    RETRO_DT TARGET                          SEQUENCE  RN  count  \\\n",
       "0    1011725  20210501.0      0  358f1de5feb4209fae852fb0a61de5d8   1    163   \n",
       "1    1011725  20210501.0      0  6760174c4579afec8bf24a3ac824ab20   2    163   \n",
       "2    1011725  20210501.0      0                                     3    163   \n",
       "3    1011725  20210501.0      0  ad197c71dae25b9d0633d66353f194b4   4    163   \n",
       "4    1011725  20210501.0      0  b2d534801c7163b324a0447b7f26fd65   5    163   \n",
       "\n",
       "   BACK_RN  ENC_SEQUENCE  \n",
       "0      163            25  \n",
       "1      162          1105  \n",
       "2      161             0  \n",
       "3      160          2605  \n",
       "4      159            43  "
      ]
     },
     "execution_count": 61,
     "metadata": {},
     "output_type": "execute_result"
    }
   ],
   "source": [
    "train_seq_df.head(5)"
   ]
  },
  {
   "cell_type": "markdown",
   "metadata": {},
   "source": [
    "**0 is a padding index**"
   ]
  },
  {
   "cell_type": "code",
   "execution_count": 62,
   "metadata": {},
   "outputs": [
    {
     "name": "stderr",
     "output_type": "stream",
     "text": [
      "/usr/local/lib/python3.7/site-packages/ipykernel_launcher.py:1: SettingWithCopyWarning: \n",
      "A value is trying to be set on a copy of a slice from a DataFrame.\n",
      "Try using .loc[row_indexer,col_indexer] = value instead\n",
      "\n",
      "See the caveats in the documentation: https://pandas.pydata.org/pandas-docs/stable/user_guide/indexing.html#returning-a-view-versus-a-copy\n",
      "  \"\"\"Entry point for launching an IPython kernel.\n",
      "/usr/local/lib/python3.7/site-packages/ipykernel_launcher.py:2: SettingWithCopyWarning: \n",
      "A value is trying to be set on a copy of a slice from a DataFrame.\n",
      "Try using .loc[row_indexer,col_indexer] = value instead\n",
      "\n",
      "See the caveats in the documentation: https://pandas.pydata.org/pandas-docs/stable/user_guide/indexing.html#returning-a-view-versus-a-copy\n",
      "  \n"
     ]
    }
   ],
   "source": [
    "train_seq_df[\"ENC_SEQUENCE\"] += 1\n",
    "test_seq_df[\"ENC_SEQUENCE\"] += 1"
   ]
  },
  {
   "cell_type": "code",
   "execution_count": 63,
   "metadata": {},
   "outputs": [
    {
     "data": {
      "text/plain": [
       "(1, 63536, 63536)"
      ]
     },
     "execution_count": 63,
     "metadata": {},
     "output_type": "execute_result"
    }
   ],
   "source": [
    "train_seq_df[\"ENC_SEQUENCE\"].min(), train_seq_df[\"ENC_SEQUENCE\"].max(), train_seq_df[\"ENC_SEQUENCE\"].nunique()"
   ]
  },
  {
   "cell_type": "code",
   "execution_count": 64,
   "metadata": {},
   "outputs": [
    {
     "data": {
      "text/plain": [
       "(1, 63536, 31599)"
      ]
     },
     "execution_count": 64,
     "metadata": {},
     "output_type": "execute_result"
    }
   ],
   "source": [
    "test_seq_df[\"ENC_SEQUENCE\"].min(), test_seq_df[\"ENC_SEQUENCE\"].max(), test_seq_df[\"ENC_SEQUENCE\"].nunique()"
   ]
  },
  {
   "cell_type": "markdown",
   "metadata": {},
   "source": [
    "**Filter sequences with target**"
   ]
  },
  {
   "cell_type": "code",
   "execution_count": 65,
   "metadata": {},
   "outputs": [
    {
     "data": {
      "text/plain": [
       "(8163202, 96685)"
      ]
     },
     "execution_count": 65,
     "metadata": {},
     "output_type": "execute_result"
    }
   ],
   "source": [
    "target_train_seq_df = train_seq_df[train_seq_df[\"TARGET\"].notnull()]\n",
    "target_train_seq_df.shape[0], target_train_seq_df[\"CLIENT_ID\"].nunique()"
   ]
  },
  {
   "cell_type": "code",
   "execution_count": 66,
   "metadata": {},
   "outputs": [
    {
     "data": {
      "text/html": [
       "<div>\n",
       "<style scoped>\n",
       "    .dataframe tbody tr th:only-of-type {\n",
       "        vertical-align: middle;\n",
       "    }\n",
       "\n",
       "    .dataframe tbody tr th {\n",
       "        vertical-align: top;\n",
       "    }\n",
       "\n",
       "    .dataframe thead th {\n",
       "        text-align: right;\n",
       "    }\n",
       "</style>\n",
       "<table border=\"1\" class=\"dataframe\">\n",
       "  <thead>\n",
       "    <tr style=\"text-align: right;\">\n",
       "      <th></th>\n",
       "      <th>CLIENT_ID</th>\n",
       "      <th>RETRO_DT</th>\n",
       "      <th>TARGET</th>\n",
       "      <th>SEQUENCE</th>\n",
       "      <th>RN</th>\n",
       "      <th>count</th>\n",
       "      <th>BACK_RN</th>\n",
       "      <th>ENC_SEQUENCE</th>\n",
       "    </tr>\n",
       "  </thead>\n",
       "  <tbody>\n",
       "    <tr>\n",
       "      <th>0</th>\n",
       "      <td>1011725</td>\n",
       "      <td>20210501.0</td>\n",
       "      <td>0</td>\n",
       "      <td>358f1de5feb4209fae852fb0a61de5d8</td>\n",
       "      <td>1</td>\n",
       "      <td>163</td>\n",
       "      <td>163</td>\n",
       "      <td>26</td>\n",
       "    </tr>\n",
       "    <tr>\n",
       "      <th>1</th>\n",
       "      <td>1011725</td>\n",
       "      <td>20210501.0</td>\n",
       "      <td>0</td>\n",
       "      <td>6760174c4579afec8bf24a3ac824ab20</td>\n",
       "      <td>2</td>\n",
       "      <td>163</td>\n",
       "      <td>162</td>\n",
       "      <td>1106</td>\n",
       "    </tr>\n",
       "    <tr>\n",
       "      <th>2</th>\n",
       "      <td>1011725</td>\n",
       "      <td>20210501.0</td>\n",
       "      <td>0</td>\n",
       "      <td></td>\n",
       "      <td>3</td>\n",
       "      <td>163</td>\n",
       "      <td>161</td>\n",
       "      <td>1</td>\n",
       "    </tr>\n",
       "    <tr>\n",
       "      <th>3</th>\n",
       "      <td>1011725</td>\n",
       "      <td>20210501.0</td>\n",
       "      <td>0</td>\n",
       "      <td>ad197c71dae25b9d0633d66353f194b4</td>\n",
       "      <td>4</td>\n",
       "      <td>163</td>\n",
       "      <td>160</td>\n",
       "      <td>2606</td>\n",
       "    </tr>\n",
       "    <tr>\n",
       "      <th>4</th>\n",
       "      <td>1011725</td>\n",
       "      <td>20210501.0</td>\n",
       "      <td>0</td>\n",
       "      <td>b2d534801c7163b324a0447b7f26fd65</td>\n",
       "      <td>5</td>\n",
       "      <td>163</td>\n",
       "      <td>159</td>\n",
       "      <td>44</td>\n",
       "    </tr>\n",
       "  </tbody>\n",
       "</table>\n",
       "</div>"
      ],
      "text/plain": [
       "   CLIENT_ID    RETRO_DT TARGET                          SEQUENCE  RN  count  \\\n",
       "0    1011725  20210501.0      0  358f1de5feb4209fae852fb0a61de5d8   1    163   \n",
       "1    1011725  20210501.0      0  6760174c4579afec8bf24a3ac824ab20   2    163   \n",
       "2    1011725  20210501.0      0                                     3    163   \n",
       "3    1011725  20210501.0      0  ad197c71dae25b9d0633d66353f194b4   4    163   \n",
       "4    1011725  20210501.0      0  b2d534801c7163b324a0447b7f26fd65   5    163   \n",
       "\n",
       "   BACK_RN  ENC_SEQUENCE  \n",
       "0      163            26  \n",
       "1      162          1106  \n",
       "2      161             1  \n",
       "3      160          2606  \n",
       "4      159            44  "
      ]
     },
     "execution_count": 66,
     "metadata": {},
     "output_type": "execute_result"
    }
   ],
   "source": [
    "train_seq_df.head(5)"
   ]
  },
  {
   "cell_type": "markdown",
   "metadata": {},
   "source": [
    "## Pytorch-lifestream"
   ]
  },
  {
   "cell_type": "code",
   "execution_count": 67,
   "metadata": {},
   "outputs": [],
   "source": [
    "from ptls.preprocessing import PandasDataPreprocessor"
   ]
  },
  {
   "cell_type": "markdown",
   "metadata": {},
   "source": [
    "**Preprocessing**"
   ]
  },
  {
   "cell_type": "code",
   "execution_count": 68,
   "metadata": {},
   "outputs": [],
   "source": [
    "preprocessor = PandasDataPreprocessor(\n",
    "    col_id=\"CLIENT_ID\",\n",
    "    col_event_time=\"RN\",\n",
    "    event_time_transformation=\"none\",\n",
    "    cols_category=[\"ENC_SEQUENCE\"],\n",
    "    category_transformation=\"none\",\n",
    "    return_records=True\n",
    ")"
   ]
  },
  {
   "cell_type": "code",
   "execution_count": 151,
   "metadata": {},
   "outputs": [
    {
     "name": "stdout",
     "output_type": "stream",
     "text": [
      "CPU times: user 9min 45s, sys: 32.5 s, total: 10min 17s\n",
      "Wall time: 10min 19s\n"
     ]
    }
   ],
   "source": [
    "%%time\n",
    "\n",
    "unsup_dataset = preprocessor.fit_transform(train_seq_df[[\"CLIENT_ID\", \"ENC_SEQUENCE\", \"RN\"]])"
   ]
  },
  {
   "cell_type": "code",
   "execution_count": 69,
   "metadata": {},
   "outputs": [],
   "source": [
    "import pickle"
   ]
  },
  {
   "cell_type": "code",
   "execution_count": 152,
   "metadata": {},
   "outputs": [],
   "source": [
    "with open(\"artifacts/preprocessor.p\", \"wb\") as f:\n",
    "    pickle.dump(preprocessor, f)"
   ]
  },
  {
   "cell_type": "code",
   "execution_count": 70,
   "metadata": {},
   "outputs": [],
   "source": [
    "with open(\"artifacts/preprocessor.p\", \"rb\") as f:\n",
    "    preprocessor = pickle.load(f)"
   ]
  },
  {
   "cell_type": "code",
   "execution_count": 71,
   "metadata": {},
   "outputs": [
    {
     "name": "stdout",
     "output_type": "stream",
     "text": [
      "CPU times: user 51 s, sys: 2.5 s, total: 53.4 s\n",
      "Wall time: 53.7 s\n"
     ]
    }
   ],
   "source": [
    "%%time\n",
    "\n",
    "# transform other datasets\n",
    "train_dataset = preprocessor.transform(target_train_seq_df[[\"CLIENT_ID\", \"ENC_SEQUENCE\", \"RN\"]])\n",
    "test_dataset = preprocessor.transform(test_seq_df[[\"CLIENT_ID\", \"ENC_SEQUENCE\", \"RN\"]])"
   ]
  },
  {
   "cell_type": "markdown",
   "metadata": {},
   "source": [
    "**Modeling**"
   ]
  },
  {
   "cell_type": "code",
   "execution_count": 72,
   "metadata": {},
   "outputs": [],
   "source": [
    "from ptls.data_load.augmentations.random_slice import RandomSlice"
   ]
  },
  {
   "cell_type": "code",
   "execution_count": 73,
   "metadata": {},
   "outputs": [],
   "source": [
    "import torch\n",
    "from functools import partial\n",
    "from ptls.nn import TrxEncoder, RnnSeqEncoder\n",
    "from ptls.frames.coles import CoLESModule"
   ]
  },
  {
   "cell_type": "code",
   "execution_count": 74,
   "metadata": {},
   "outputs": [
    {
     "data": {
      "text/plain": [
       "63536"
      ]
     },
     "execution_count": 74,
     "metadata": {},
     "output_type": "execute_result"
    }
   ],
   "source": [
    "max(encoding_dict.values()) + 1"
   ]
  },
  {
   "cell_type": "code",
   "execution_count": 75,
   "metadata": {},
   "outputs": [
    {
     "data": {
      "text/plain": [
       "16265216"
      ]
     },
     "execution_count": 75,
     "metadata": {},
     "output_type": "execute_result"
    }
   ],
   "source": [
    "(max(encoding_dict.values()) + 1) * 256"
   ]
  },
  {
   "cell_type": "code",
   "execution_count": 370,
   "metadata": {},
   "outputs": [],
   "source": [
    "trx_encoder_params = dict(\n",
    "    embeddings_noise=0.003,\n",
    "    numeric_values = {},\n",
    "    embeddings={\n",
    "        \"ENC_SEQUENCE\": {\"in\": max(encoding_dict.values()) + 1, \"out\": 256}\n",
    "    }\n",
    ")\n",
    "\n",
    "seq_encoder = RnnSeqEncoder(\n",
    "    trx_encoder=TrxEncoder(**trx_encoder_params),\n",
    "    hidden_size=128,\n",
    "    type=\"gru\"\n",
    ")\n",
    "\n",
    "model = CoLESModule(\n",
    "    seq_encoder=seq_encoder,\n",
    "    optimizer_partial=partial(torch.optim.Adam, lr=0.001),\n",
    "    lr_scheduler_partial=partial(torch.optim.lr_scheduler.StepLR, step_size=30, gamma=0.9),\n",
    ")"
   ]
  },
  {
   "cell_type": "markdown",
   "metadata": {},
   "source": [
    "**Data Loader**"
   ]
  },
  {
   "cell_type": "code",
   "execution_count": 76,
   "metadata": {},
   "outputs": [],
   "source": [
    "from ptls.data_load.datasets import MemoryMapDataset\n",
    "from ptls.data_load.iterable_processing import SeqLenFilter\n",
    "from ptls.frames.coles import ColesDataset\n",
    "from ptls.frames.coles.split_strategy import SampleSlices\n",
    "from ptls.frames import PtlsDataModule"
   ]
  },
  {
   "cell_type": "code",
   "execution_count": 372,
   "metadata": {},
   "outputs": [],
   "source": [
    "train_dl = PtlsDataModule(\n",
    "    train_data=ColesDataset(\n",
    "        MemoryMapDataset(\n",
    "            data=unsup_dataset,\n",
    "            i_filters=[\n",
    "                SeqLenFilter(min_seq_len=4),\n",
    "            ],\n",
    "        ),\n",
    "        splitter=SampleSlices(\n",
    "            split_count=5,\n",
    "            cnt_min=4,\n",
    "            cnt_max=200,\n",
    "        ),\n",
    "    ),\n",
    "    train_num_workers=16,\n",
    "    train_batch_size=256,\n",
    ")"
   ]
  },
  {
   "cell_type": "code",
   "execution_count": 77,
   "metadata": {},
   "outputs": [
    {
     "data": {
      "text/plain": [
       "63"
      ]
     },
     "execution_count": 77,
     "metadata": {},
     "output_type": "execute_result"
    }
   ],
   "source": [
    "gc.collect()"
   ]
  },
  {
   "cell_type": "markdown",
   "metadata": {},
   "source": [
    "**Trainer**"
   ]
  },
  {
   "cell_type": "code",
   "execution_count": 78,
   "metadata": {},
   "outputs": [],
   "source": [
    "import torch\n",
    "import pytorch_lightning as pl\n",
    "\n",
    "import logging"
   ]
  },
  {
   "cell_type": "code",
   "execution_count": 375,
   "metadata": {},
   "outputs": [
    {
     "name": "stderr",
     "output_type": "stream",
     "text": [
      "GPU available: True, used: True\n",
      "TPU available: False, using: 0 TPU cores\n",
      "IPU available: False, using: 0 IPUs\n",
      "HPU available: False, using: 0 HPUs\n"
     ]
    }
   ],
   "source": [
    "trainer = pl.Trainer(\n",
    "    max_epochs=50,\n",
    "    gpus=1 if torch.cuda.is_available() else 0,\n",
    "    enable_progress_bar=True,\n",
    "    strategy=None\n",
    ")"
   ]
  },
  {
   "cell_type": "markdown",
   "metadata": {},
   "source": [
    "**Training**"
   ]
  },
  {
   "cell_type": "code",
   "execution_count": 376,
   "metadata": {
    "scrolled": false
   },
   "outputs": [
    {
     "name": "stderr",
     "output_type": "stream",
     "text": [
      "/home/u_m1bs9/.local/lib/python3.7/site-packages/pytorch_lightning/trainer/configuration_validator.py:133: UserWarning: You defined a `validation_step` but have no `val_dataloader`. Skipping val loop.\n",
      "  rank_zero_warn(\"You defined a `validation_step` but have no `val_dataloader`. Skipping val loop.\")\n",
      "LOCAL_RANK: 0 - CUDA_VISIBLE_DEVICES: [0,1]\n",
      "\n",
      "  | Name               | Type            | Params\n",
      "-------------------------------------------------------\n",
      "0 | _loss              | ContrastiveLoss | 0     \n",
      "1 | _seq_encoder       | RnnSeqEncoder   | 16.4 M\n",
      "2 | _validation_metric | BatchRecallTopK | 0     \n",
      "3 | _head              | Head            | 0     \n",
      "-------------------------------------------------------\n",
      "16.4 M    Trainable params\n",
      "0         Non-trainable params\n",
      "16.4 M    Total params\n",
      "65.654    Total estimated model params size (MB)\n"
     ]
    },
    {
     "name": "stdout",
     "output_type": "stream",
     "text": [
      "logger.version = 13\n"
     ]
    },
    {
     "data": {
      "application/vnd.jupyter.widget-view+json": {
       "model_id": "f5682b9954e2468ba37f0fc2941eece9",
       "version_major": 2,
       "version_minor": 0
      },
      "text/plain": [
       "Training: 0it [00:00, ?it/s]"
      ]
     },
     "metadata": {},
     "output_type": "display_data"
    },
    {
     "name": "stdout",
     "output_type": "stream",
     "text": [
      "{'loss': tensor(157.7340, device='cuda:0'), 'seq_len': tensor(14.9336, device='cuda:0')}\n",
      "CPU times: user 12min 29s, sys: 1min 17s, total: 13min 47s\n",
      "Wall time: 13min 53s\n"
     ]
    },
    {
     "name": "stderr",
     "output_type": "stream",
     "text": [
      "/home/u_m1bs9/.local/lib/python3.7/site-packages/pytorch_lightning/trainer/trainer.py:726: UserWarning: Detected KeyboardInterrupt, attempting graceful shutdown...\n",
      "  rank_zero_warn(\"Detected KeyboardInterrupt, attempting graceful shutdown...\")\n"
     ]
    }
   ],
   "source": [
    "%%time\n",
    "print(f\"logger.version = {trainer.logger.version}\")\n",
    "trainer.fit(model, train_dl)\n",
    "print(trainer.logged_metrics)"
   ]
  },
  {
   "cell_type": "markdown",
   "metadata": {},
   "source": [
    "**Save seq_encoder weights**"
   ]
  },
  {
   "cell_type": "code",
   "execution_count": 201,
   "metadata": {},
   "outputs": [],
   "source": [
    "torch.save(seq_encoder.state_dict(), \"artifacts/coles-emb_128.pt\")"
   ]
  },
  {
   "cell_type": "markdown",
   "metadata": {},
   "source": [
    "**Get embeddings**"
   ]
  },
  {
   "cell_type": "code",
   "execution_count": 79,
   "metadata": {},
   "outputs": [],
   "source": [
    "from ptls.data_load.datasets import inference_data_loader"
   ]
  },
  {
   "cell_type": "code",
   "execution_count": 202,
   "metadata": {},
   "outputs": [
    {
     "name": "stderr",
     "output_type": "stream",
     "text": [
      "LOCAL_RANK: 0 - CUDA_VISIBLE_DEVICES: [0,1]\n",
      "/home/u_m1bs9/.local/lib/python3.7/site-packages/pytorch_lightning/trainer/connectors/data_connector.py:245: PossibleUserWarning: The dataloader, predict_dataloader 0, does not have many workers which may be a bottleneck. Consider increasing the value of the `num_workers` argument` (try 96 which is the number of cpus on this machine) in the `DataLoader` init to improve performance.\n",
      "  category=PossibleUserWarning,\n"
     ]
    },
    {
     "data": {
      "application/vnd.jupyter.widget-view+json": {
       "model_id": "c5f8a8db90e647e89bd0627e98332320",
       "version_major": 2,
       "version_minor": 0
      },
      "text/plain": [
       "Predicting: 3034it [00:00, ?it/s]"
      ]
     },
     "metadata": {},
     "output_type": "display_data"
    },
    {
     "name": "stderr",
     "output_type": "stream",
     "text": [
      "/home/u_m1bs9/.local/lib/python3.7/site-packages/pytorch_lightning/loops/epoch/prediction_epoch_loop.py:175: UserWarning: Lightning couldn't infer the indices fetched for your dataloader.\n",
      "  warning_cache.warn(\"Lightning couldn't infer the indices fetched for your dataloader.\")\n",
      "LOCAL_RANK: 0 - CUDA_VISIBLE_DEVICES: [0,1]\n"
     ]
    },
    {
     "data": {
      "application/vnd.jupyter.widget-view+json": {
       "model_id": "92a1086aea544a6181d198d27a8735a9",
       "version_major": 2,
       "version_minor": 0
      },
      "text/plain": [
       "Predicting: 3034it [00:00, ?it/s]"
      ]
     },
     "metadata": {},
     "output_type": "display_data"
    },
    {
     "data": {
      "text/plain": [
       "(torch.Size([96685, 16]), torch.Size([24201, 16]))"
      ]
     },
     "execution_count": 202,
     "metadata": {},
     "output_type": "execute_result"
    }
   ],
   "source": [
    "train_dl = inference_data_loader(train_dataset, num_workers=0, batch_size=256)\n",
    "train_embeds = torch.vstack(trainer.predict(model, train_dl))\n",
    "\n",
    "test_dl = inference_data_loader(test_dataset, num_workers=0, batch_size=256)\n",
    "test_embeds = torch.vstack(trainer.predict(model, test_dl))\n",
    "\n",
    "train_embeds.shape, test_embeds.shape"
   ]
  },
  {
   "cell_type": "code",
   "execution_count": 209,
   "metadata": {},
   "outputs": [
    {
     "data": {
      "text/plain": [
       "0       92491\n",
       "1       34941\n",
       "test    31858\n",
       "Name: TARGET, dtype: int64"
      ]
     },
     "execution_count": 209,
     "metadata": {},
     "output_type": "execute_result"
    }
   ],
   "source": [
    "target_df[\"TARGET\"].value_counts()"
   ]
  },
  {
   "cell_type": "code",
   "execution_count": 210,
   "metadata": {},
   "outputs": [
    {
     "data": {
      "text/plain": [
       "0.7345433273061553"
      ]
     },
     "execution_count": 210,
     "metadata": {},
     "output_type": "execute_result"
    }
   ],
   "source": [
    "96685 / (96685 + 34941)"
   ]
  },
  {
   "cell_type": "code",
   "execution_count": 211,
   "metadata": {},
   "outputs": [
    {
     "data": {
      "text/plain": [
       "0.7596522066670852"
      ]
     },
     "execution_count": 211,
     "metadata": {},
     "output_type": "execute_result"
    }
   ],
   "source": [
    "24201 / 31858"
   ]
  },
  {
   "cell_type": "code",
   "execution_count": 84,
   "metadata": {},
   "outputs": [
    {
     "data": {
      "text/plain": [
       "(127432, 31858)"
      ]
     },
     "execution_count": 84,
     "metadata": {},
     "output_type": "execute_result"
    }
   ],
   "source": [
    "train_target_df = target_df[target_df[\"TARGET\"]!=\"test\"]\n",
    "test_target_df = target_df[target_df[\"TARGET\"]==\"test\"]\n",
    "train_target_df.shape[0], test_target_df.shape[0]"
   ]
  },
  {
   "cell_type": "code",
   "execution_count": 224,
   "metadata": {},
   "outputs": [
    {
     "name": "stdout",
     "output_type": "stream",
     "text": [
      "(127432, 19) (31858, 19)\n"
     ]
    }
   ],
   "source": [
    "embed_columns = [f'embed_{i}' for i in range(train_embeds.shape[1])]\n",
    "train_embeds_df = pd.DataFrame(data=train_embeds.numpy(), columns=embed_columns)\n",
    "train_embeds_df[\"CLIENT_ID\"] = [x[\"CLIENT_ID\"] for x in train_dataset]\n",
    "train_embeds_df = train_target_df.merge(train_embeds_df, how=\"left\", on=\"CLIENT_ID\")\n",
    "\n",
    "test_embeds_df = pd.DataFrame(data=test_embeds.numpy(), columns=embed_columns)\n",
    "test_embeds_df[\"CLIENT_ID\"] = [x[\"CLIENT_ID\"] for x in test_dataset]\n",
    "test_embeds_df = test_target_df.merge(test_embeds_df, how=\"left\", on=\"CLIENT_ID\")\n",
    "\n",
    "print(train_embeds_df.shape, test_embeds_df.shape)"
   ]
  },
  {
   "cell_type": "code",
   "execution_count": 225,
   "metadata": {},
   "outputs": [
    {
     "data": {
      "text/html": [
       "<div>\n",
       "<style scoped>\n",
       "    .dataframe tbody tr th:only-of-type {\n",
       "        vertical-align: middle;\n",
       "    }\n",
       "\n",
       "    .dataframe tbody tr th {\n",
       "        vertical-align: top;\n",
       "    }\n",
       "\n",
       "    .dataframe thead th {\n",
       "        text-align: right;\n",
       "    }\n",
       "</style>\n",
       "<table border=\"1\" class=\"dataframe\">\n",
       "  <thead>\n",
       "    <tr style=\"text-align: right;\">\n",
       "      <th></th>\n",
       "      <th>CLIENT_ID</th>\n",
       "      <th>RETRO_DT</th>\n",
       "      <th>TARGET</th>\n",
       "      <th>embed_0</th>\n",
       "      <th>embed_1</th>\n",
       "      <th>embed_2</th>\n",
       "      <th>embed_3</th>\n",
       "      <th>embed_4</th>\n",
       "      <th>embed_5</th>\n",
       "      <th>embed_6</th>\n",
       "      <th>embed_7</th>\n",
       "      <th>embed_8</th>\n",
       "      <th>embed_9</th>\n",
       "      <th>embed_10</th>\n",
       "      <th>embed_11</th>\n",
       "      <th>embed_12</th>\n",
       "      <th>embed_13</th>\n",
       "      <th>embed_14</th>\n",
       "      <th>embed_15</th>\n",
       "    </tr>\n",
       "  </thead>\n",
       "  <tbody>\n",
       "    <tr>\n",
       "      <th>0</th>\n",
       "      <td>1011725</td>\n",
       "      <td>20210501</td>\n",
       "      <td>0</td>\n",
       "      <td>0.023088</td>\n",
       "      <td>-0.637532</td>\n",
       "      <td>0.460064</td>\n",
       "      <td>-0.404557</td>\n",
       "      <td>-0.121882</td>\n",
       "      <td>-0.039651</td>\n",
       "      <td>0.729014</td>\n",
       "      <td>0.219234</td>\n",
       "      <td>-0.355999</td>\n",
       "      <td>0.547310</td>\n",
       "      <td>0.904606</td>\n",
       "      <td>-0.478223</td>\n",
       "      <td>0.282368</td>\n",
       "      <td>-0.473438</td>\n",
       "      <td>0.651416</td>\n",
       "      <td>-0.400655</td>\n",
       "    </tr>\n",
       "    <tr>\n",
       "      <th>1</th>\n",
       "      <td>1018784</td>\n",
       "      <td>20210501</td>\n",
       "      <td>1</td>\n",
       "      <td>-0.085799</td>\n",
       "      <td>-0.498362</td>\n",
       "      <td>0.214997</td>\n",
       "      <td>0.045838</td>\n",
       "      <td>-0.554335</td>\n",
       "      <td>-0.258517</td>\n",
       "      <td>0.445557</td>\n",
       "      <td>0.627721</td>\n",
       "      <td>-0.751760</td>\n",
       "      <td>0.275726</td>\n",
       "      <td>0.920611</td>\n",
       "      <td>-0.495070</td>\n",
       "      <td>-0.029588</td>\n",
       "      <td>-0.551534</td>\n",
       "      <td>0.380883</td>\n",
       "      <td>-0.747836</td>\n",
       "    </tr>\n",
       "    <tr>\n",
       "      <th>2</th>\n",
       "      <td>1021812</td>\n",
       "      <td>20210501</td>\n",
       "      <td>0</td>\n",
       "      <td>0.030161</td>\n",
       "      <td>-0.552375</td>\n",
       "      <td>0.525406</td>\n",
       "      <td>-0.377661</td>\n",
       "      <td>-0.460579</td>\n",
       "      <td>0.193575</td>\n",
       "      <td>0.161870</td>\n",
       "      <td>0.262462</td>\n",
       "      <td>-0.902078</td>\n",
       "      <td>0.548467</td>\n",
       "      <td>0.709263</td>\n",
       "      <td>-0.482735</td>\n",
       "      <td>0.175077</td>\n",
       "      <td>-0.350803</td>\n",
       "      <td>0.403445</td>\n",
       "      <td>-0.350306</td>\n",
       "    </tr>\n",
       "    <tr>\n",
       "      <th>3</th>\n",
       "      <td>1024003</td>\n",
       "      <td>20210501</td>\n",
       "      <td>0</td>\n",
       "      <td>0.290751</td>\n",
       "      <td>-0.644814</td>\n",
       "      <td>0.507834</td>\n",
       "      <td>0.071638</td>\n",
       "      <td>-0.400943</td>\n",
       "      <td>-0.131227</td>\n",
       "      <td>0.125493</td>\n",
       "      <td>0.283818</td>\n",
       "      <td>-0.384769</td>\n",
       "      <td>0.293267</td>\n",
       "      <td>0.840564</td>\n",
       "      <td>-0.383901</td>\n",
       "      <td>0.243509</td>\n",
       "      <td>-0.369481</td>\n",
       "      <td>0.681728</td>\n",
       "      <td>-0.481901</td>\n",
       "    </tr>\n",
       "    <tr>\n",
       "      <th>4</th>\n",
       "      <td>1026390</td>\n",
       "      <td>20210501</td>\n",
       "      <td>1</td>\n",
       "      <td>0.184734</td>\n",
       "      <td>-0.645089</td>\n",
       "      <td>0.412090</td>\n",
       "      <td>-0.373927</td>\n",
       "      <td>-0.103036</td>\n",
       "      <td>0.268280</td>\n",
       "      <td>0.374531</td>\n",
       "      <td>0.337312</td>\n",
       "      <td>-0.698646</td>\n",
       "      <td>0.817906</td>\n",
       "      <td>0.810684</td>\n",
       "      <td>-0.678619</td>\n",
       "      <td>0.587717</td>\n",
       "      <td>0.075198</td>\n",
       "      <td>0.426324</td>\n",
       "      <td>-0.467399</td>\n",
       "    </tr>\n",
       "  </tbody>\n",
       "</table>\n",
       "</div>"
      ],
      "text/plain": [
       "   CLIENT_ID  RETRO_DT TARGET   embed_0   embed_1   embed_2   embed_3  \\\n",
       "0    1011725  20210501      0  0.023088 -0.637532  0.460064 -0.404557   \n",
       "1    1018784  20210501      1 -0.085799 -0.498362  0.214997  0.045838   \n",
       "2    1021812  20210501      0  0.030161 -0.552375  0.525406 -0.377661   \n",
       "3    1024003  20210501      0  0.290751 -0.644814  0.507834  0.071638   \n",
       "4    1026390  20210501      1  0.184734 -0.645089  0.412090 -0.373927   \n",
       "\n",
       "    embed_4   embed_5   embed_6   embed_7   embed_8   embed_9  embed_10  \\\n",
       "0 -0.121882 -0.039651  0.729014  0.219234 -0.355999  0.547310  0.904606   \n",
       "1 -0.554335 -0.258517  0.445557  0.627721 -0.751760  0.275726  0.920611   \n",
       "2 -0.460579  0.193575  0.161870  0.262462 -0.902078  0.548467  0.709263   \n",
       "3 -0.400943 -0.131227  0.125493  0.283818 -0.384769  0.293267  0.840564   \n",
       "4 -0.103036  0.268280  0.374531  0.337312 -0.698646  0.817906  0.810684   \n",
       "\n",
       "   embed_11  embed_12  embed_13  embed_14  embed_15  \n",
       "0 -0.478223  0.282368 -0.473438  0.651416 -0.400655  \n",
       "1 -0.495070 -0.029588 -0.551534  0.380883 -0.747836  \n",
       "2 -0.482735  0.175077 -0.350803  0.403445 -0.350306  \n",
       "3 -0.383901  0.243509 -0.369481  0.681728 -0.481901  \n",
       "4 -0.678619  0.587717  0.075198  0.426324 -0.467399  "
      ]
     },
     "execution_count": 225,
     "metadata": {},
     "output_type": "execute_result"
    }
   ],
   "source": [
    "train_embeds_df.head(5)"
   ]
  },
  {
   "cell_type": "code",
   "execution_count": 226,
   "metadata": {},
   "outputs": [
    {
     "data": {
      "text/html": [
       "<div>\n",
       "<style scoped>\n",
       "    .dataframe tbody tr th:only-of-type {\n",
       "        vertical-align: middle;\n",
       "    }\n",
       "\n",
       "    .dataframe tbody tr th {\n",
       "        vertical-align: top;\n",
       "    }\n",
       "\n",
       "    .dataframe thead th {\n",
       "        text-align: right;\n",
       "    }\n",
       "</style>\n",
       "<table border=\"1\" class=\"dataframe\">\n",
       "  <thead>\n",
       "    <tr style=\"text-align: right;\">\n",
       "      <th></th>\n",
       "      <th>CLIENT_ID</th>\n",
       "      <th>RETRO_DT</th>\n",
       "      <th>TARGET</th>\n",
       "      <th>embed_0</th>\n",
       "      <th>embed_1</th>\n",
       "      <th>embed_2</th>\n",
       "      <th>embed_3</th>\n",
       "      <th>embed_4</th>\n",
       "      <th>embed_5</th>\n",
       "      <th>embed_6</th>\n",
       "      <th>embed_7</th>\n",
       "      <th>embed_8</th>\n",
       "      <th>embed_9</th>\n",
       "      <th>embed_10</th>\n",
       "      <th>embed_11</th>\n",
       "      <th>embed_12</th>\n",
       "      <th>embed_13</th>\n",
       "      <th>embed_14</th>\n",
       "      <th>embed_15</th>\n",
       "    </tr>\n",
       "  </thead>\n",
       "  <tbody>\n",
       "    <tr>\n",
       "      <th>0</th>\n",
       "      <td>1025140</td>\n",
       "      <td>20210501</td>\n",
       "      <td>test</td>\n",
       "      <td>-0.065011</td>\n",
       "      <td>-0.139320</td>\n",
       "      <td>0.062844</td>\n",
       "      <td>-0.049985</td>\n",
       "      <td>-0.303888</td>\n",
       "      <td>-0.537759</td>\n",
       "      <td>0.129406</td>\n",
       "      <td>0.051621</td>\n",
       "      <td>-0.202745</td>\n",
       "      <td>0.029460</td>\n",
       "      <td>0.108914</td>\n",
       "      <td>-0.136512</td>\n",
       "      <td>0.185937</td>\n",
       "      <td>-0.066964</td>\n",
       "      <td>0.111823</td>\n",
       "      <td>-0.079308</td>\n",
       "    </tr>\n",
       "    <tr>\n",
       "      <th>1</th>\n",
       "      <td>1029732</td>\n",
       "      <td>20210501</td>\n",
       "      <td>test</td>\n",
       "      <td>-0.033738</td>\n",
       "      <td>-0.566957</td>\n",
       "      <td>0.390280</td>\n",
       "      <td>-0.260153</td>\n",
       "      <td>-0.683180</td>\n",
       "      <td>0.242037</td>\n",
       "      <td>0.470731</td>\n",
       "      <td>0.324965</td>\n",
       "      <td>-0.307363</td>\n",
       "      <td>0.701547</td>\n",
       "      <td>0.834260</td>\n",
       "      <td>-0.955106</td>\n",
       "      <td>0.157632</td>\n",
       "      <td>-0.560924</td>\n",
       "      <td>0.217248</td>\n",
       "      <td>-0.108798</td>\n",
       "    </tr>\n",
       "    <tr>\n",
       "      <th>2</th>\n",
       "      <td>1079794</td>\n",
       "      <td>20210501</td>\n",
       "      <td>test</td>\n",
       "      <td>NaN</td>\n",
       "      <td>NaN</td>\n",
       "      <td>NaN</td>\n",
       "      <td>NaN</td>\n",
       "      <td>NaN</td>\n",
       "      <td>NaN</td>\n",
       "      <td>NaN</td>\n",
       "      <td>NaN</td>\n",
       "      <td>NaN</td>\n",
       "      <td>NaN</td>\n",
       "      <td>NaN</td>\n",
       "      <td>NaN</td>\n",
       "      <td>NaN</td>\n",
       "      <td>NaN</td>\n",
       "      <td>NaN</td>\n",
       "      <td>NaN</td>\n",
       "    </tr>\n",
       "    <tr>\n",
       "      <th>3</th>\n",
       "      <td>1116331</td>\n",
       "      <td>20210501</td>\n",
       "      <td>test</td>\n",
       "      <td>-0.057849</td>\n",
       "      <td>-0.152701</td>\n",
       "      <td>0.168505</td>\n",
       "      <td>-0.120704</td>\n",
       "      <td>-0.033321</td>\n",
       "      <td>0.451756</td>\n",
       "      <td>0.685853</td>\n",
       "      <td>0.070345</td>\n",
       "      <td>-0.069403</td>\n",
       "      <td>0.085613</td>\n",
       "      <td>0.542716</td>\n",
       "      <td>-0.376874</td>\n",
       "      <td>0.141015</td>\n",
       "      <td>-0.110342</td>\n",
       "      <td>0.324876</td>\n",
       "      <td>-0.074734</td>\n",
       "    </tr>\n",
       "    <tr>\n",
       "      <th>4</th>\n",
       "      <td>1136822</td>\n",
       "      <td>20210501</td>\n",
       "      <td>test</td>\n",
       "      <td>-0.116530</td>\n",
       "      <td>-0.412536</td>\n",
       "      <td>0.311511</td>\n",
       "      <td>0.162531</td>\n",
       "      <td>-0.474708</td>\n",
       "      <td>0.082530</td>\n",
       "      <td>0.623114</td>\n",
       "      <td>0.590708</td>\n",
       "      <td>-0.404404</td>\n",
       "      <td>0.817844</td>\n",
       "      <td>0.914185</td>\n",
       "      <td>-0.922403</td>\n",
       "      <td>0.588681</td>\n",
       "      <td>-0.097407</td>\n",
       "      <td>0.510846</td>\n",
       "      <td>-0.152003</td>\n",
       "    </tr>\n",
       "  </tbody>\n",
       "</table>\n",
       "</div>"
      ],
      "text/plain": [
       "   CLIENT_ID  RETRO_DT TARGET   embed_0   embed_1   embed_2   embed_3  \\\n",
       "0    1025140  20210501   test -0.065011 -0.139320  0.062844 -0.049985   \n",
       "1    1029732  20210501   test -0.033738 -0.566957  0.390280 -0.260153   \n",
       "2    1079794  20210501   test       NaN       NaN       NaN       NaN   \n",
       "3    1116331  20210501   test -0.057849 -0.152701  0.168505 -0.120704   \n",
       "4    1136822  20210501   test -0.116530 -0.412536  0.311511  0.162531   \n",
       "\n",
       "    embed_4   embed_5   embed_6   embed_7   embed_8   embed_9  embed_10  \\\n",
       "0 -0.303888 -0.537759  0.129406  0.051621 -0.202745  0.029460  0.108914   \n",
       "1 -0.683180  0.242037  0.470731  0.324965 -0.307363  0.701547  0.834260   \n",
       "2       NaN       NaN       NaN       NaN       NaN       NaN       NaN   \n",
       "3 -0.033321  0.451756  0.685853  0.070345 -0.069403  0.085613  0.542716   \n",
       "4 -0.474708  0.082530  0.623114  0.590708 -0.404404  0.817844  0.914185   \n",
       "\n",
       "   embed_11  embed_12  embed_13  embed_14  embed_15  \n",
       "0 -0.136512  0.185937 -0.066964  0.111823 -0.079308  \n",
       "1 -0.955106  0.157632 -0.560924  0.217248 -0.108798  \n",
       "2       NaN       NaN       NaN       NaN       NaN  \n",
       "3 -0.376874  0.141015 -0.110342  0.324876 -0.074734  \n",
       "4 -0.922403  0.588681 -0.097407  0.510846 -0.152003  "
      ]
     },
     "execution_count": 226,
     "metadata": {},
     "output_type": "execute_result"
    }
   ],
   "source": [
    "test_embeds_df.head(5)"
   ]
  },
  {
   "cell_type": "code",
   "execution_count": 223,
   "metadata": {},
   "outputs": [
    {
     "data": {
      "text/plain": [
       "96685"
      ]
     },
     "execution_count": 223,
     "metadata": {},
     "output_type": "execute_result"
    }
   ],
   "source": [
    "train_embeds_df[\"embed_0\"].notnull().sum()"
   ]
  },
  {
   "cell_type": "code",
   "execution_count": 227,
   "metadata": {},
   "outputs": [
    {
     "data": {
      "text/plain": [
       "24201"
      ]
     },
     "execution_count": 227,
     "metadata": {},
     "output_type": "execute_result"
    }
   ],
   "source": [
    "test_embeds_df[\"embed_0\"].notnull().sum()"
   ]
  },
  {
   "cell_type": "code",
   "execution_count": 228,
   "metadata": {},
   "outputs": [],
   "source": [
    "train_embeds_df[\"embed_hit\"] = 0\n",
    "test_embeds_df[\"embed_hit\"] = 0\n",
    "\n",
    "train_embeds_df.loc[train_embeds_df[\"embed_0\"].notnull(), \"embed_hit\"] = 1\n",
    "test_embeds_df.loc[test_embeds_df[\"embed_0\"].notnull(), \"embed_hit\"] = 1\n",
    "\n",
    "train_embeds_df.loc[train_embeds_df[\"embed_0\"].isna(), embed_columns] = 0.0\n",
    "test_embeds_df.loc[test_embeds_df[\"embed_0\"].isna(), embed_columns] = 0.0"
   ]
  },
  {
   "cell_type": "code",
   "execution_count": 229,
   "metadata": {},
   "outputs": [
    {
     "data": {
      "text/plain": [
       "0"
      ]
     },
     "execution_count": 229,
     "metadata": {},
     "output_type": "execute_result"
    }
   ],
   "source": [
    "train_embeds_df.isna().sum().sum()"
   ]
  },
  {
   "cell_type": "code",
   "execution_count": 230,
   "metadata": {},
   "outputs": [
    {
     "data": {
      "text/plain": [
       "0"
      ]
     },
     "execution_count": 230,
     "metadata": {},
     "output_type": "execute_result"
    }
   ],
   "source": [
    "test_embeds_df.isna().sum().sum()"
   ]
  },
  {
   "cell_type": "code",
   "execution_count": 232,
   "metadata": {},
   "outputs": [],
   "source": [
    "train_embeds_df.to_csv(\"data/train_embeds_unsup.csv\", index=False)\n",
    "test_embeds_df.to_csv(\"data/test_embeds_unsup.csv\", index=False)"
   ]
  },
  {
   "cell_type": "markdown",
   "metadata": {},
   "source": [
    "**SequenceToTarget**"
   ]
  },
  {
   "cell_type": "code",
   "execution_count": 85,
   "metadata": {},
   "outputs": [],
   "source": [
    "from copy import deepcopy"
   ]
  },
  {
   "cell_type": "code",
   "execution_count": 86,
   "metadata": {},
   "outputs": [
    {
     "data": {
      "text/plain": [
       "0"
      ]
     },
     "execution_count": 86,
     "metadata": {},
     "output_type": "execute_result"
    }
   ],
   "source": [
    "train_dataset_target = pd.DataFrame(deepcopy(train_dataset))\n",
    "test_dataset_target = pd.DataFrame(deepcopy(test_dataset))\n",
    "gc.collect()"
   ]
  },
  {
   "cell_type": "code",
   "execution_count": 87,
   "metadata": {},
   "outputs": [
    {
     "name": "stderr",
     "output_type": "stream",
     "text": [
      "/usr/local/lib/python3.7/site-packages/ipykernel_launcher.py:1: SettingWithCopyWarning: \n",
      "A value is trying to be set on a copy of a slice from a DataFrame.\n",
      "Try using .loc[row_indexer,col_indexer] = value instead\n",
      "\n",
      "See the caveats in the documentation: https://pandas.pydata.org/pandas-docs/stable/user_guide/indexing.html#returning-a-view-versus-a-copy\n",
      "  \"\"\"Entry point for launching an IPython kernel.\n"
     ]
    }
   ],
   "source": [
    "train_target_df[\"TARGET\"] = train_target_df[\"TARGET\"].astype(\"int\")"
   ]
  },
  {
   "cell_type": "code",
   "execution_count": 88,
   "metadata": {},
   "outputs": [
    {
     "data": {
      "text/plain": [
       "0"
      ]
     },
     "execution_count": 88,
     "metadata": {},
     "output_type": "execute_result"
    }
   ],
   "source": [
    "train_dataset_target = train_dataset_target.merge(train_target_df[[\"CLIENT_ID\", \"TARGET\"]],\n",
    "                                                  how=\"left\", on=\"CLIENT_ID\")\n",
    "train_dataset_target[\"TARGET\"].isna().sum()"
   ]
  },
  {
   "cell_type": "code",
   "execution_count": 89,
   "metadata": {},
   "outputs": [
    {
     "data": {
      "text/plain": [
       "63"
      ]
     },
     "execution_count": 89,
     "metadata": {},
     "output_type": "execute_result"
    }
   ],
   "source": [
    "gc.collect()"
   ]
  },
  {
   "cell_type": "code",
   "execution_count": 90,
   "metadata": {},
   "outputs": [
    {
     "data": {
      "text/html": [
       "<div>\n",
       "<style scoped>\n",
       "    .dataframe tbody tr th:only-of-type {\n",
       "        vertical-align: middle;\n",
       "    }\n",
       "\n",
       "    .dataframe tbody tr th {\n",
       "        vertical-align: top;\n",
       "    }\n",
       "\n",
       "    .dataframe thead th {\n",
       "        text-align: right;\n",
       "    }\n",
       "</style>\n",
       "<table border=\"1\" class=\"dataframe\">\n",
       "  <thead>\n",
       "    <tr style=\"text-align: right;\">\n",
       "      <th></th>\n",
       "      <th>CLIENT_ID</th>\n",
       "      <th>ENC_SEQUENCE</th>\n",
       "      <th>RN</th>\n",
       "      <th>event_time</th>\n",
       "      <th>TARGET</th>\n",
       "    </tr>\n",
       "  </thead>\n",
       "  <tbody>\n",
       "    <tr>\n",
       "      <th>0</th>\n",
       "      <td>7150</td>\n",
       "      <td>[tensor(21), tensor(181), tensor(201), tensor(...</td>\n",
       "      <td>[tensor(1), tensor(2), tensor(3), tensor(4), t...</td>\n",
       "      <td>[tensor(1), tensor(2), tensor(3), tensor(4), t...</td>\n",
       "      <td>1</td>\n",
       "    </tr>\n",
       "    <tr>\n",
       "      <th>1</th>\n",
       "      <td>7154</td>\n",
       "      <td>[tensor(26)]</td>\n",
       "      <td>[tensor(1)]</td>\n",
       "      <td>[tensor(1)]</td>\n",
       "      <td>0</td>\n",
       "    </tr>\n",
       "    <tr>\n",
       "      <th>2</th>\n",
       "      <td>7156</td>\n",
       "      <td>[tensor(4), tensor(21), tensor(4), tensor(21),...</td>\n",
       "      <td>[tensor(1), tensor(2), tensor(3), tensor(4), t...</td>\n",
       "      <td>[tensor(1), tensor(2), tensor(3), tensor(4), t...</td>\n",
       "      <td>0</td>\n",
       "    </tr>\n",
       "    <tr>\n",
       "      <th>3</th>\n",
       "      <td>8532</td>\n",
       "      <td>[tensor(4), tensor(7), tensor(132), tensor(168...</td>\n",
       "      <td>[tensor(1), tensor(2), tensor(3), tensor(4), t...</td>\n",
       "      <td>[tensor(1), tensor(2), tensor(3), tensor(4), t...</td>\n",
       "      <td>0</td>\n",
       "    </tr>\n",
       "    <tr>\n",
       "      <th>4</th>\n",
       "      <td>26955</td>\n",
       "      <td>[tensor(3), tensor(138), tensor(3), tensor(25)...</td>\n",
       "      <td>[tensor(154), tensor(155), tensor(156), tensor...</td>\n",
       "      <td>[tensor(154), tensor(155), tensor(156), tensor...</td>\n",
       "      <td>1</td>\n",
       "    </tr>\n",
       "  </tbody>\n",
       "</table>\n",
       "</div>"
      ],
      "text/plain": [
       "   CLIENT_ID                                       ENC_SEQUENCE  \\\n",
       "0       7150  [tensor(21), tensor(181), tensor(201), tensor(...   \n",
       "1       7154                                       [tensor(26)]   \n",
       "2       7156  [tensor(4), tensor(21), tensor(4), tensor(21),...   \n",
       "3       8532  [tensor(4), tensor(7), tensor(132), tensor(168...   \n",
       "4      26955  [tensor(3), tensor(138), tensor(3), tensor(25)...   \n",
       "\n",
       "                                                  RN  \\\n",
       "0  [tensor(1), tensor(2), tensor(3), tensor(4), t...   \n",
       "1                                        [tensor(1)]   \n",
       "2  [tensor(1), tensor(2), tensor(3), tensor(4), t...   \n",
       "3  [tensor(1), tensor(2), tensor(3), tensor(4), t...   \n",
       "4  [tensor(154), tensor(155), tensor(156), tensor...   \n",
       "\n",
       "                                          event_time  TARGET  \n",
       "0  [tensor(1), tensor(2), tensor(3), tensor(4), t...       1  \n",
       "1                                        [tensor(1)]       0  \n",
       "2  [tensor(1), tensor(2), tensor(3), tensor(4), t...       0  \n",
       "3  [tensor(1), tensor(2), tensor(3), tensor(4), t...       0  \n",
       "4  [tensor(154), tensor(155), tensor(156), tensor...       1  "
      ]
     },
     "execution_count": 90,
     "metadata": {},
     "output_type": "execute_result"
    }
   ],
   "source": [
    "train_dataset_target.head(5)"
   ]
  },
  {
   "cell_type": "markdown",
   "metadata": {},
   "source": [
    "**Train Test Split**"
   ]
  },
  {
   "cell_type": "code",
   "execution_count": 91,
   "metadata": {},
   "outputs": [],
   "source": [
    "from sklearn.model_selection import train_test_split"
   ]
  },
  {
   "cell_type": "code",
   "execution_count": 92,
   "metadata": {},
   "outputs": [
    {
     "data": {
      "text/plain": [
       "(77348, 19337)"
      ]
     },
     "execution_count": 92,
     "metadata": {},
     "output_type": "execute_result"
    }
   ],
   "source": [
    "train_dataset_target, valid_dataset_target = train_test_split(train_dataset_target, \n",
    "                                                              test_size=0.2, \n",
    "                                                              stratify=train_dataset_target[\"TARGET\"])\n",
    "train_dataset_target.shape[0], valid_dataset_target.shape[0]"
   ]
  },
  {
   "cell_type": "code",
   "execution_count": 93,
   "metadata": {},
   "outputs": [],
   "source": [
    "train_dataset_target.reset_index(drop=True, inplace=True)\n",
    "valid_dataset_target.reset_index(drop=True, inplace=True)"
   ]
  },
  {
   "cell_type": "markdown",
   "metadata": {},
   "source": [
    "**Model**"
   ]
  },
  {
   "cell_type": "code",
   "execution_count": 94,
   "metadata": {},
   "outputs": [],
   "source": [
    "import torchmetrics\n",
    "from ptls.nn import TrxEncoder, RnnSeqEncoder, Head\n",
    "from ptls.frames.supervised import SeqToTargetDataset, SequenceToTarget"
   ]
  },
  {
   "cell_type": "code",
   "execution_count": 96,
   "metadata": {},
   "outputs": [],
   "source": [
    "from ptls.data_load.iterable_processing import FeatureFilter\n",
    "from ptls.frames.bert import MlmDataset"
   ]
  },
  {
   "cell_type": "markdown",
   "metadata": {},
   "source": [
    "**MLM Pretrain**"
   ]
  },
  {
   "cell_type": "code",
   "execution_count": null,
   "metadata": {},
   "outputs": [],
   "source": [
    "mlm_dm = PtlsDataModule(\n",
    "    train_data=MlmDataset(\n",
    "        MemoryMapDataset(\n",
    "            data=unsup_dataset\n",
    "        ),\n",
    "        min_len=8, max_len=196\n",
    "    ),\n",
    "    train_num_workers=16,\n",
    "    train_batch_size=128\n",
    ")"
   ]
  },
  {
   "cell_type": "code",
   "execution_count": 97,
   "metadata": {},
   "outputs": [
    {
     "data": {
      "text/plain": [
       "50"
      ]
     },
     "execution_count": 97,
     "metadata": {},
     "output_type": "execute_result"
    }
   ],
   "source": [
    "gc.collect()"
   ]
  },
  {
   "cell_type": "code",
   "execution_count": 98,
   "metadata": {},
   "outputs": [],
   "source": [
    "from ptls.nn import LongformerEncoder\n",
    "from ptls.frames.bert import MLMPretrainModule\n",
    "from ptls.nn import PBLinear, PBL2Norm, PBLayerNorm"
   ]
  },
  {
   "cell_type": "code",
   "execution_count": 99,
   "metadata": {},
   "outputs": [],
   "source": [
    "trx_encoder_params = dict(\n",
    "    embeddings_noise=0.003,\n",
    "    numeric_values = {},\n",
    "    embeddings={\n",
    "        \"ENC_SEQUENCE\": {\"in\": max(encoding_dict.values()) + 1, \"out\": 128}\n",
    "    }\n",
    ")\n",
    "\n",
    "trx_encoder = TrxEncoder(**trx_encoder_params)"
   ]
  },
  {
   "cell_type": "code",
   "execution_count": 462,
   "metadata": {},
   "outputs": [],
   "source": [
    "mlm_model = MLMPretrainModule(\n",
    "    trx_encoder=torch.nn.Sequential(\n",
    "        trx_encoder,\n",
    "        PBLinear(trx_encoder.output_size, 256),\n",
    "        PBL2Norm(),\n",
    "    ),\n",
    "    seq_encoder=LongformerEncoder(\n",
    "        input_size=256,\n",
    "        num_attention_heads=1,\n",
    "        intermediate_size=1024,\n",
    "        num_hidden_layers=2,\n",
    "        attention_window=64,\n",
    "        max_position_embeddings=2000,\n",
    "    ),\n",
    "    hidden_size=256,\n",
    "    loss_temperature=20.0,\n",
    "    \n",
    "    total_steps=30000,\n",
    "\n",
    "    replace_proba=0.1,\n",
    "    neg_count=64,\n",
    "    \n",
    "    log_logits=True,\n",
    ")"
   ]
  },
  {
   "cell_type": "code",
   "execution_count": 463,
   "metadata": {},
   "outputs": [
    {
     "name": "stderr",
     "output_type": "stream",
     "text": [
      "GPU available: True, used: True\n",
      "TPU available: False, using: 0 TPU cores\n",
      "IPU available: False, using: 0 IPUs\n",
      "HPU available: False, using: 0 HPUs\n"
     ]
    },
    {
     "name": "stdout",
     "output_type": "stream",
     "text": [
      "loss baseline = 4.159\n"
     ]
    }
   ],
   "source": [
    "import numpy as np\n",
    "\n",
    "trainer = pl.Trainer(\n",
    "    max_steps=24000,  # 12000\n",
    "    gpus=1 if torch.cuda.is_available() else 0,\n",
    "    enable_progress_bar=True,\n",
    "    callbacks=[\n",
    "        pl.callbacks.LearningRateMonitor(logging_interval=\"step\"),\n",
    "        pl.callbacks.ModelCheckpoint(every_n_train_steps=2000, save_top_k=-1),\n",
    "    ]\n",
    ")\n",
    "print(f\"loss baseline = {np.log(mlm_model.hparams.neg_count):.3f}\")"
   ]
  },
  {
   "cell_type": "code",
   "execution_count": null,
   "metadata": {
    "scrolled": false
   },
   "outputs": [],
   "source": [
    "%%time\n",
    "print(f\"logger.version = {trainer.logger.version}\")\n",
    "trainer.fit(mlm_model, mlm_dm)\n",
    "print(trainer.logged_metrics)"
   ]
  },
  {
   "cell_type": "code",
   "execution_count": 465,
   "metadata": {},
   "outputs": [],
   "source": [
    "torch.save(mlm_model.trx_encoder.state_dict(), \"artifacts/mlm-emb.pt\")"
   ]
  },
  {
   "cell_type": "code",
   "execution_count": 100,
   "metadata": {},
   "outputs": [],
   "source": [
    "def get_dataset(data):\n",
    "    return SeqToTargetDataset(\n",
    "        MemoryMapDataset(\n",
    "            data=data,\n",
    "            i_filters=[\n",
    "                FeatureFilter(keep_feature_names=\"TARGET\"),\n",
    "            ],\n",
    "        ),\n",
    "        target_dtype=torch.int32,\n",
    "        target_col_name=\"TARGET\",\n",
    "    )\n",
    "\n",
    "finetune_dm = PtlsDataModule(\n",
    "    train_data=get_dataset(train_dataset_target.to_dict(orient=\"records\")),\n",
    "    valid_data=get_dataset(valid_dataset_target.to_dict(orient=\"records\")),\n",
    "    test_data=get_dataset(valid_dataset_target.to_dict(orient=\"records\")),\n",
    "    train_num_workers=16,\n",
    "    train_batch_size=256,\n",
    "    test_batch_size=128,\n",
    ")"
   ]
  },
  {
   "cell_type": "code",
   "execution_count": 101,
   "metadata": {},
   "outputs": [
    {
     "data": {
      "text/plain": [
       "<All keys matched successfully>"
      ]
     },
     "execution_count": 101,
     "metadata": {},
     "output_type": "execute_result"
    }
   ],
   "source": [
    "model = SequenceToTarget(\n",
    "    seq_encoder=RnnSeqEncoder(\n",
    "        trx_encoder=torch.nn.Sequential(\n",
    "            torch.nn.Sequential(\n",
    "                TrxEncoder(**trx_encoder_params),\n",
    "                PBLinear(trx_encoder.output_size, 256),\n",
    "                PBL2Norm(),\n",
    "            ),\n",
    "            PBLayerNorm(256),\n",
    "        ),\n",
    "        input_size=256,\n",
    "        hidden_size=256,\n",
    "        type=\"gru\",\n",
    "    )\n",
    ")\n",
    "\n",
    "model.seq_encoder.trx_encoder[0].load_state_dict(torch.load(\"artifacts/mlm-emb.pt\"))"
   ]
  },
  {
   "cell_type": "code",
   "execution_count": 102,
   "metadata": {},
   "outputs": [],
   "source": [
    "dataset_target = pd.concat([train_dataset_target, valid_dataset_target], \n",
    "                           ignore_index=True).reset_index(drop=True)"
   ]
  },
  {
   "cell_type": "code",
   "execution_count": 103,
   "metadata": {},
   "outputs": [
    {
     "name": "stderr",
     "output_type": "stream",
     "text": [
      "/home/u_m1bs9/.local/lib/python3.7/site-packages/pytorch_lightning/loops/utilities.py:95: PossibleUserWarning: `max_epochs` was not set. Setting it to 1000 epochs. To train without an epoch limit, set `max_epochs=-1`.\n",
      "  category=PossibleUserWarning,\n",
      "GPU available: True, used: True\n",
      "TPU available: False, using: 0 TPU cores\n",
      "IPU available: False, using: 0 IPUs\n",
      "HPU available: False, using: 0 HPUs\n",
      "LOCAL_RANK: 0 - CUDA_VISIBLE_DEVICES: [0,1]\n",
      "/home/u_m1bs9/.local/lib/python3.7/site-packages/pytorch_lightning/trainer/connectors/data_connector.py:245: PossibleUserWarning: The dataloader, predict_dataloader 0, does not have many workers which may be a bottleneck. Consider increasing the value of the `num_workers` argument` (try 96 which is the number of cpus on this machine) in the `DataLoader` init to improve performance.\n",
      "  category=PossibleUserWarning,\n"
     ]
    },
    {
     "data": {
      "application/vnd.jupyter.widget-view+json": {
       "model_id": "8af3fd22f0d84584a361c900484b89cb",
       "version_major": 2,
       "version_minor": 0
      },
      "text/plain": [
       "Predicting: 0it [00:00, ?it/s]"
      ]
     },
     "metadata": {},
     "output_type": "display_data"
    },
    {
     "name": "stderr",
     "output_type": "stream",
     "text": [
      "/home/u_m1bs9/.local/lib/python3.7/site-packages/pytorch_lightning/loops/epoch/prediction_epoch_loop.py:175: UserWarning: Lightning couldn't infer the indices fetched for your dataloader.\n",
      "  warning_cache.warn(\"Lightning couldn't infer the indices fetched for your dataloader.\")\n",
      "LOCAL_RANK: 0 - CUDA_VISIBLE_DEVICES: [0,1]\n"
     ]
    },
    {
     "data": {
      "application/vnd.jupyter.widget-view+json": {
       "model_id": "adefb9f5ece8411f92e2d73b616b54d0",
       "version_major": 2,
       "version_minor": 0
      },
      "text/plain": [
       "Predicting: 0it [00:00, ?it/s]"
      ]
     },
     "metadata": {},
     "output_type": "display_data"
    },
    {
     "data": {
      "text/plain": [
       "(torch.Size([96685, 256]), torch.Size([24201, 256]))"
      ]
     },
     "execution_count": 103,
     "metadata": {},
     "output_type": "execute_result"
    }
   ],
   "source": [
    "model.eval()\n",
    "\n",
    "trainer = pl.Trainer(gpus=1 if torch.cuda.is_available() else 0)\n",
    "\n",
    "train_dl = inference_data_loader(MemoryMapDataset(dataset_target.to_dict(orient=\"records\")), \n",
    "                                                  num_workers=0, batch_size=256)\n",
    "train_embeds = torch.vstack(trainer.predict(model, train_dl))\n",
    "\n",
    "test_dl = inference_data_loader(MemoryMapDataset(test_dataset_target.to_dict(orient=\"records\")),\n",
    "                                num_workers=0, batch_size=256)\n",
    "test_embeds = torch.vstack(trainer.predict(model, test_dl))\n",
    "\n",
    "train_embeds.shape, test_embeds.shape"
   ]
  },
  {
   "cell_type": "code",
   "execution_count": 120,
   "metadata": {},
   "outputs": [
    {
     "name": "stdout",
     "output_type": "stream",
     "text": [
      "(127432, 259) (31858, 259)\n"
     ]
    }
   ],
   "source": [
    "embed_columns = [f'embed_{i}' for i in range(train_embeds.shape[1])]\n",
    "train_embeds_df = pd.DataFrame(data=train_embeds.numpy(), columns=embed_columns)\n",
    "train_embeds_df[\"CLIENT_ID\"] = dataset_target[\"CLIENT_ID\"]\n",
    "train_embeds_df = train_target_df.merge(train_embeds_df, how=\"left\", on=\"CLIENT_ID\")\n",
    "\n",
    "test_embeds_df = pd.DataFrame(data=test_embeds.numpy(), columns=embed_columns)\n",
    "test_embeds_df[\"CLIENT_ID\"] = test_dataset_target[\"CLIENT_ID\"]\n",
    "test_embeds_df = test_target_df.merge(test_embeds_df, how=\"left\", on=\"CLIENT_ID\")\n",
    "\n",
    "print(train_embeds_df.shape, test_embeds_df.shape)"
   ]
  },
  {
   "cell_type": "code",
   "execution_count": 121,
   "metadata": {},
   "outputs": [
    {
     "data": {
      "text/plain": [
       "96685"
      ]
     },
     "execution_count": 121,
     "metadata": {},
     "output_type": "execute_result"
    }
   ],
   "source": [
    "train_embeds_df[\"embed_0\"].notnull().sum()"
   ]
  },
  {
   "cell_type": "code",
   "execution_count": 122,
   "metadata": {},
   "outputs": [
    {
     "data": {
      "text/plain": [
       "24201"
      ]
     },
     "execution_count": 122,
     "metadata": {},
     "output_type": "execute_result"
    }
   ],
   "source": [
    "test_embeds_df[\"embed_0\"].notnull().sum()"
   ]
  },
  {
   "cell_type": "code",
   "execution_count": 123,
   "metadata": {},
   "outputs": [],
   "source": [
    "train_embeds_df[\"embed_hit\"] = 0\n",
    "test_embeds_df[\"embed_hit\"] = 0\n",
    "\n",
    "train_embeds_df.loc[train_embeds_df[\"embed_0\"].notnull(), \"embed_hit\"] = 1\n",
    "test_embeds_df.loc[test_embeds_df[\"embed_0\"].notnull(), \"embed_hit\"] = 1\n",
    "\n",
    "train_embeds_df.loc[train_embeds_df[\"embed_0\"].isna(), embed_columns] = 0.0\n",
    "test_embeds_df.loc[test_embeds_df[\"embed_0\"].isna(), embed_columns] = 0.0"
   ]
  },
  {
   "cell_type": "code",
   "execution_count": 124,
   "metadata": {},
   "outputs": [
    {
     "data": {
      "text/plain": [
       "0"
      ]
     },
     "execution_count": 124,
     "metadata": {},
     "output_type": "execute_result"
    }
   ],
   "source": [
    "train_embeds_df.isna().sum().sum()"
   ]
  },
  {
   "cell_type": "code",
   "execution_count": 125,
   "metadata": {},
   "outputs": [
    {
     "data": {
      "text/plain": [
       "0"
      ]
     },
     "execution_count": 125,
     "metadata": {},
     "output_type": "execute_result"
    }
   ],
   "source": [
    "test_embeds_df.isna().sum().sum()"
   ]
  },
  {
   "cell_type": "code",
   "execution_count": 126,
   "metadata": {},
   "outputs": [],
   "source": [
    "train_embeds_df.to_csv(\"data/train_embeds_transformer.csv\", index=False)\n",
    "test_embeds_df.to_csv(\"data/test_embeds_transformer.csv\", index=False)"
   ]
  }
 ],
 "metadata": {
  "kernelspec": {
   "display_name": "Python 3 (ipykernel)",
   "language": "python",
   "name": "python3"
  },
  "language_info": {
   "codemirror_mode": {
    "name": "ipython",
    "version": 3
   },
   "file_extension": ".py",
   "mimetype": "text/x-python",
   "name": "python",
   "nbconvert_exporter": "python",
   "pygments_lexer": "ipython3",
   "version": "3.7.12"
  }
 },
 "nbformat": 4,
 "nbformat_minor": 4
}
